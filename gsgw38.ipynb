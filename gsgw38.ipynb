{
 "metadata": {
  "language_info": {
   "codemirror_mode": {
    "name": "ipython",
    "version": 3
   },
   "file_extension": ".py",
   "mimetype": "text/x-python",
   "name": "python",
   "nbconvert_exporter": "python",
   "pygments_lexer": "ipython3",
   "version": "3.6.9"
  },
  "orig_nbformat": 2,
  "kernelspec": {
   "name": "python36964bit1fe2bb4cf81446c4930ef0f70b991c44",
   "display_name": "Python 3.6.9 64-bit"
  },
  "metadata": {
   "interpreter": {
    "hash": "31f2aee4e71d21fbe5cf8b01ff0e069b9275f58929596ceb00d14d90e3e16cd6"
   }
  }
 },
 "nbformat": 4,
 "nbformat_minor": 2,
 "cells": [
  {
   "source": [
    "# 0 Running the code\n",
    "This code can be run by clicking 'Run all Cells'.\n",
    "The program will require a file called latestdata.csv containing the dataset given for the coursework.\n",
    "The program will create 2 further csv files, one contains the subset of the dataset that is relevant for classification task and the other contains the encoded version of that dataset."
   ],
   "cell_type": "markdown",
   "metadata": {}
  },
  {
   "source": [
    "# 1 Import Dataset\n",
    "The first step is to import the dataset and have a look at which columns contain a lot of data points\n",
    "\n",
    "Please note that the program expects the dataset to be saved as latestdata.csv in the same folder as the program."
   ],
   "cell_type": "markdown",
   "metadata": {}
  },
  {
   "cell_type": "code",
   "execution_count": 1,
   "metadata": {},
   "outputs": [
    {
     "output_type": "stream",
     "name": "stderr",
     "text": [
      "/home/sam/.local/lib/python3.6/site-packages/IPython/core/interactiveshell.py:3072: DtypeWarning: Columns (1,2,9,10,12,13,14,15,16,17,19,20,21,22,23,24,25,26,27,31,32) have mixed types.Specify dtype option on import or set low_memory=False.\n",
      "  interactivity=interactivity, compiler=compiler, result=result)\n",
      "Read dataset from latestdata.csv\n",
      "ID                          2676311\n",
      "age                          578018\n",
      "sex                          580157\n",
      "city                        1698630\n",
      "province                    2223647\n",
      "country                     2676196\n",
      "latitude                    2676250\n",
      "longitude                   2676250\n",
      "geo_resolution              2676250\n",
      "date_onset_symptoms          261599\n",
      "date_admission_hospital      116211\n",
      "date_confirmation           2567822\n",
      "symptoms                       2052\n",
      "lives_in_Wuhan                 4338\n",
      "travel_history_dates           2611\n",
      "travel_history_location        9222\n",
      "reported_market_exposure       1069\n",
      "additional_information        45855\n",
      "chronic_disease_binary      2676311\n",
      "chronic_disease                 215\n",
      "source                      2109347\n",
      "sequence_available               12\n",
      "outcome                      307382\n",
      "date_death_or_discharge        3148\n",
      "notes_for_discussion            640\n",
      "location                      13376\n",
      "admin3                        80434\n",
      "admin2                       826054\n",
      "admin1                      1257558\n",
      "country_new                 2645758\n",
      "admin_id                    2676250\n",
      "data_moderator_initials     1742983\n",
      "travel_history_binary       2610732\n",
      "dtype: int64\n"
     ]
    }
   ],
   "source": [
    "import pandas as pd\n",
    "import numpy as np\n",
    "\n",
    "# Read in the dataset\n",
    "try:\n",
    "    cov = pd.read_csv(\"latestdata.csv\")\n",
    "    print('Read dataset from latestdata.csv')\n",
    "    # Inspect data\n",
    "    print(cov.count())\n",
    "except Exception as e:\n",
    "    print('Dataset not available ', e)\n",
    "\n"
   ]
  },
  {
   "source": [
    "# 2 Data Preparation"
   ],
   "cell_type": "markdown",
   "metadata": {}
  },
  {
   "source": [
    "## 2.1 Drop irrelevant columns and rows"
   ],
   "cell_type": "markdown",
   "metadata": {}
  },
  {
   "cell_type": "code",
   "execution_count": 2,
   "metadata": {},
   "outputs": [
    {
     "output_type": "stream",
     "name": "stdout",
     "text": [
      "Stored dataset as dataset.csv\n"
     ]
    }
   ],
   "source": [
    "# Identify the columns required for the problem\n",
    "fields = [\"outcome\", \"age\", \"sex\", \"date_confirmation\", \"date_onset_symptoms\", \"country\"] # 3493 rows - mostly from the phillipines\n",
    "dataset = cov[fields]\n",
    " \n",
    "# Drop the rows which are missing information\n",
    "dataset = dataset.dropna(subset=fields)\n",
    "\n",
    "# Store the set for future use\n",
    "dataset.to_csv(\"dataset.csv\")\n",
    "print('Stored dataset as dataset.csv')"
   ]
  },
  {
   "cell_type": "code",
   "execution_count": 3,
   "metadata": {},
   "outputs": [
    {
     "output_type": "stream",
     "name": "stdout",
     "text": [
      "Read dataset from dataset.csv\noutcome                3493\nage                    3493\nsex                    3493\ndate_confirmation      3493\ndate_onset_symptoms    3493\ncountry                3493\ndtype: int64\n"
     ]
    }
   ],
   "source": [
    "# Instead of doing the above steps you can load the processed dataset\n",
    "import pandas as pd\n",
    "dataset = pd.read_csv('dataset.csv')\n",
    "print('Read dataset from dataset.csv')\n",
    "# Drop the unnamed column\n",
    "dataset = dataset.drop(columns=['Unnamed: 0'])\n",
    "\n",
    "print(dataset.count())"
   ]
  },
  {
   "source": [
    "## 2.2 Feature encoding"
   ],
   "cell_type": "markdown",
   "metadata": {}
  },
  {
   "cell_type": "code",
   "execution_count": 4,
   "metadata": {},
   "outputs": [
    {
     "output_type": "stream",
     "name": "stderr",
     "text": [
      "/home/sam/.local/lib/python3.6/site-packages/sklearn/preprocessing/data.py:334: DataConversionWarning: Data with input dtype object were all converted to float64 by MinMaxScaler.\n",
      "  return self.partial_fit(X, y)\n",
      "/home/sam/.local/lib/python3.6/site-packages/ipykernel_launcher.py:42: SettingWithCopyWarning: \n",
      "A value is trying to be set on a copy of a slice from a DataFrame\n",
      "\n",
      "See the caveats in the documentation: https://pandas.pydata.org/pandas-docs/stable/user_guide/indexing.html#returning-a-view-versus-a-copy\n",
      "/home/sam/.local/lib/python3.6/site-packages/ipykernel_launcher.py:43: SettingWithCopyWarning: \n",
      "A value is trying to be set on a copy of a slice from a DataFrame\n",
      "\n",
      "See the caveats in the documentation: https://pandas.pydata.org/pandas-docs/stable/user_guide/indexing.html#returning-a-view-versus-a-copy\n",
      "<bound method NDFrame.head of       outcome       age  sex  days_waiting  Angola  Brazil  Cabo Verde  \\\n",
      "0           1  0.797980    1      0.180723       0       0           0   \n",
      "1           1  0.262626    0      0.048193       0       0           0   \n",
      "2           1  0.252525    0      0.168675       0       0           0   \n",
      "3           1  0.404040    0      0.060241       0       0           0   \n",
      "4           1  0.434343    0      0.072289       0       0           0   \n",
      "...       ...       ...  ...           ...     ...     ...         ...   \n",
      "3488        1  0.444444    0      0.012048       0       0           0   \n",
      "3489        1  0.616162    0      0.024096       0       1           0   \n",
      "3490        1  0.323232    0      0.012048       0       1           0   \n",
      "3491        1  0.555556    0      0.036145       0       0           0   \n",
      "3492        1  0.252525    1      0.084337       0       0           0   \n",
      "\n",
      "      Canada  Central African Republic  China  ...  Gabon  Germany  India  \\\n",
      "0          0                         0      0  ...      0        0      0   \n",
      "1          0                         0      0  ...      0        0      0   \n",
      "2          0                         0      0  ...      0        0      0   \n",
      "3          0                         0      0  ...      0        0      0   \n",
      "4          0                         0      0  ...      0        0      0   \n",
      "...      ...                       ...    ...  ...    ...      ...    ...   \n",
      "3488       0                         0      0  ...      0        0      0   \n",
      "3489       0                         0      0  ...      0        0      0   \n",
      "3490       0                         0      0  ...      0        0      0   \n",
      "3491       1                         0      0  ...      0        0      0   \n",
      "3492       1                         0      0  ...      0        0      0   \n",
      "\n",
      "      Japan  Nepal  Philippines  Romania  Singapore  South Korea  Vietnam  \n",
      "0         0      0            0        0          1            0        0  \n",
      "1         0      0            0        0          1            0        0  \n",
      "2         0      0            0        0          1            0        0  \n",
      "3         0      0            0        0          1            0        0  \n",
      "4         0      0            0        0          1            0        0  \n",
      "...     ...    ...          ...      ...        ...          ...      ...  \n",
      "3488      0      0            0        1          0            0        0  \n",
      "3489      0      0            0        0          0            0        0  \n",
      "3490      0      0            0        0          0            0        0  \n",
      "3491      0      0            0        0          0            0        0  \n",
      "3492      0      0            0        0          0            0        0  \n",
      "\n",
      "[3456 rows x 21 columns]>\n",
      "Saved dataset as dataset_clean.csv\n",
      "/home/sam/.local/lib/python3.6/site-packages/sklearn/preprocessing/data.py:334: DataConversionWarning: Data with input dtype int64 were all converted to float64 by MinMaxScaler.\n",
      "  return self.partial_fit(X, y)\n"
     ]
    }
   ],
   "source": [
    "# Tidy the outcome column\n",
    "dataset = dataset.replace(to_replace={'outcome': {\n",
    "    'died':0,\n",
    "    'death':0,\n",
    "    'Deceased':0,\n",
    "    'dead':0,\n",
    "    'stable':1,\n",
    "    'treated in an intensive care unit (14.02.2020)':1,\n",
    "    'Symptoms only improved with cough. Currently hospitalized for follow-up.':1, # TODO drop and compare results\n",
    "    'severe':0,        \n",
    "    'Hospitalized':1, # TODO drop and compare results\n",
    "    'discharge':1,\n",
    "    'discharged':1,\n",
    "    'Discharged':1,\n",
    "    'Alive':1,\n",
    "    'recovered':1,\n",
    "    }})\n",
    "\n",
    "# Tidy the ages column\n",
    "dataset = dataset.replace(to_replace={'age': {\n",
    "    '0-9':5,\n",
    "    '10-19':15,\n",
    "    '20-29':25,\n",
    "    '30-39':35,\n",
    "    '40-49':45,\n",
    "    '50-59':55,\n",
    "    '60-69':65,\n",
    "    '70-79':75,\n",
    "    '80-89':85,\n",
    "    '90-99':95,\n",
    "    }}, regex=True)\n",
    "\n",
    "# Apply feature scaling to the ages\n",
    "from sklearn.preprocessing import MinMaxScaler\n",
    "age_scaler = MinMaxScaler()\n",
    "dataset[['age']] = age_scaler.fit_transform(dataset[['age']])\n",
    "\n",
    "# Replace the two dates columns with days_waiting\n",
    "gaps = []\n",
    "from datetime import date, datetime, timedelta\n",
    "for i in range(len(dataset['date_confirmation'])):\n",
    "    dataset['date_confirmation'][i] = datetime.strptime(dataset['date_confirmation'][i], r'%d.%m.%Y')\n",
    "    dataset['date_onset_symptoms'][i] = datetime.strptime(dataset['date_onset_symptoms'][i], r'%d.%m.%Y')\n",
    "    gaps.append(dataset['date_confirmation'][i] - dataset['date_onset_symptoms'][i])\n",
    "\n",
    "dataset['days_waiting'] = gaps\n",
    "dataset = dataset.drop(columns=['date_confirmation', 'date_onset_symptoms'])\n",
    "dataset['days_waiting'] = dataset['days_waiting'].dt.days\n",
    "dataset = dataset[dataset['days_waiting'] >= 0]\n",
    "dw_scaler = MinMaxScaler()\n",
    "dataset[['days_waiting']] = dw_scaler.fit_transform(dataset[['days_waiting']])\n",
    "\n",
    "# Encode the sex data as integers\n",
    "dataset = dataset.replace(to_replace={'sex': {\n",
    "    'male':0,\n",
    "    'female':1\n",
    "}})\n",
    "\n",
    "# Encode the country data using one hot encoding\n",
    "countries_df = pd.get_dummies(dataset['country'])\n",
    "dataset = pd.concat([dataset, countries_df], axis=1)\n",
    "dataset = dataset.drop(columns=['country'])\n",
    "\n",
    "print(dataset.head)\n",
    "\n",
    "# Save the cleaned up dataset for future use\n",
    "dataset.to_csv('dataset_clean.csv')\n",
    "print('Saved dataset as dataset_clean.csv')"
   ]
  },
  {
   "source": [
    "# 3 Visualisation"
   ],
   "cell_type": "markdown",
   "metadata": {}
  },
  {
   "cell_type": "code",
   "execution_count": 5,
   "metadata": {},
   "outputs": [],
   "source": [
    "import seaborn as sns\n",
    "import matplotlib.pyplot as plt\n",
    "\n",
    "def visualise(variable):\n",
    "    fig, ax = plt.subplots(1,3, figsize=(20,5))\n",
    "\n",
    "    data = dataset[variable]\n",
    "    sns.histplot(data=data, ax=ax[0])\n",
    "\n",
    "    data = dataset.loc[dataset['outcome'] == 0, variable]\n",
    "    sns.histplot(data=data, ax=ax[1]).set_title('Died')\n",
    "    data = dataset.loc[dataset['outcome'] == 1, variable]\n",
    "    sns.histplot(data=data, ax=ax[2]).set_title('Recovered')\n",
    "\n",
    "    # print(f'Produced graphs to show the distribution of the encoded {variable} for the dataset, those that died and those that recovered')\n",
    "\n",
    "visualise('age')\n",
    "visualise('days_waiting')"
   ]
  },
  {
   "cell_type": "code",
   "execution_count": 6,
   "metadata": {},
   "outputs": [],
   "source": [
    "def pie_chart(sizes, labels):\n",
    "    fig1, ax1 = plt.subplots()\n",
    "    ax1.pie(sizes, labels=labels, autopct='%1.1f%%', shadow=True, startangle=90)\n",
    "    ax1.axis('equal')\n",
    "    plt.show()"
   ]
  },
  {
   "cell_type": "code",
   "execution_count": 7,
   "metadata": {},
   "outputs": [
    {
     "output_type": "display_data",
     "data": {
      "text/plain": "<Figure size 432x288 with 1 Axes>",
      "image/svg+xml": "<?xml version=\"1.0\" encoding=\"utf-8\" standalone=\"no\"?>\n<!DOCTYPE svg PUBLIC \"-//W3C//DTD SVG 1.1//EN\"\n  \"http://www.w3.org/Graphics/SVG/1.1/DTD/svg11.dtd\">\n<!-- Created with matplotlib (http://matplotlib.org/) -->\n<svg height=\"238.84pt\" version=\"1.1\" viewBox=\"0 0 356.2 238.84\" width=\"356.2pt\" xmlns=\"http://www.w3.org/2000/svg\" xmlns:xlink=\"http://www.w3.org/1999/xlink\">\n <defs>\n  <style type=\"text/css\">\n*{stroke-linecap:butt;stroke-linejoin:round;}\n  </style>\n </defs>\n <g id=\"figure_1\">\n  <g id=\"patch_1\">\n   <path d=\"M 0 238.84 \nL 356.2 238.84 \nL 356.2 0 \nL 0 0 \nz\n\" style=\"fill:none;\"/>\n  </g>\n  <g id=\"axes_1\">\n   <g id=\"patch_2\">\n    <path d=\"M 176.012224 22.555153 \nC 165.415728 22.555153 154.888221 24.263772 144.835652 27.615126 \nC 134.783083 30.966479 125.336346 35.916929 116.859716 42.275581 \nC 108.383086 48.634233 100.986936 56.318291 94.956469 65.031453 \nC 88.926002 73.744614 84.339739 83.373424 81.374532 93.546588 \nC 78.409325 103.719751 77.103782 114.304804 77.508248 124.893578 \nC 77.912713 135.482351 80.02192 145.936969 83.754536 155.854292 \nC 87.487151 165.771615 92.794573 175.02251 99.472142 183.250255 \nC 106.149711 191.478 114.110479 198.575461 123.047472 204.268955 \nC 131.984465 209.962448 141.781315 214.177839 152.060246 216.752578 \nC 162.339178 219.327318 172.966349 220.22788 183.531968 219.419538 \nC 194.097587 218.611196 204.464078 216.104476 214.231701 211.996039 \nC 223.999324 207.887602 233.040895 202.230944 241.007763 195.24419 \nC 248.974631 188.257436 255.763059 180.031561 261.111281 170.883761 \nC 266.459503 161.735962 270.297878 151.785351 272.478397 141.415633 \nC 274.658916 131.045915 275.153185 120.392113 273.942146 109.865048 \nC 272.731106 99.337983 269.830526 89.074728 265.352255 79.47104 \nL 176.012224 121.130963 \nL 176.012224 22.555153 \nz\n\" style=\"fill:#092436;opacity:0.5;stroke:#092436;stroke-linejoin:miter;\"/>\n   </g>\n   <g id=\"patch_3\">\n    <path d=\"M 265.352255 79.47104 \nC 257.422895 62.466464 244.80109 48.074049 228.976983 37.992977 \nC 213.152876 27.911905 194.774714 22.555156 176.012242 22.555153 \nL 176.012224 121.130963 \nL 265.352255 79.47104 \nz\n\" style=\"fill:#4c2604;opacity:0.5;stroke:#4c2604;stroke-linejoin:miter;\"/>\n   </g>\n   <g id=\"patch_4\">\n    <path d=\"M 177.98374 20.583636 \nC 167.387244 20.583636 156.859737 22.292256 146.807168 25.64361 \nC 136.754599 28.994963 127.307863 33.945413 118.831232 40.304065 \nC 110.354602 46.662717 102.958452 54.346775 96.927985 63.059936 \nC 90.897518 71.773098 86.311255 81.401908 83.346048 91.575071 \nC 80.380841 101.748235 79.075299 112.333288 79.479764 122.922061 \nC 79.88423 133.510835 81.993437 143.965452 85.726052 153.882776 \nC 89.458667 163.800099 94.766089 173.050994 101.443658 181.278739 \nC 108.121227 189.506484 116.081995 196.603945 125.018988 202.297438 \nC 133.955981 207.990932 143.752831 212.206323 154.031763 214.781062 \nC 164.310694 217.355802 174.937865 218.256364 185.503484 217.448022 \nC 196.069103 216.63968 206.435594 214.13296 216.203217 210.024523 \nC 225.97084 205.916086 235.012411 200.259428 242.979279 193.272674 \nC 250.946147 186.28592 257.734575 178.060045 263.082797 168.912245 \nC 268.431019 159.764446 272.269395 149.813835 274.449913 139.444117 \nC 276.630432 129.074399 277.124701 118.420597 275.913662 107.893532 \nC 274.702622 97.366467 271.802043 87.103211 267.323772 77.499524 \nL 177.98374 119.159447 \nL 177.98374 20.583636 \nz\n\" style=\"fill:#1f77b4;\"/>\n   </g>\n   <g id=\"patch_5\">\n    <path d=\"M 267.323772 77.499524 \nC 259.394411 60.494948 246.772606 46.102533 230.948499 36.021461 \nC 215.124392 25.940389 196.746231 20.58364 177.983758 20.583636 \nL 177.98374 119.159447 \nL 267.323772 77.499524 \nz\n\" style=\"fill:#ff7f0e;\"/>\n   </g>\n   <g id=\"matplotlib.axis_1\"/>\n   <g id=\"matplotlib.axis_2\"/>\n   <g id=\"text_1\">\n    <!-- recoverd -->\n    <defs>\n     <path d=\"M 41.109375 46.296875 \nQ 39.59375 47.171875 37.8125 47.578125 \nQ 36.03125 48 33.890625 48 \nQ 26.265625 48 22.1875 43.046875 \nQ 18.109375 38.09375 18.109375 28.8125 \nL 18.109375 0 \nL 9.078125 0 \nL 9.078125 54.6875 \nL 18.109375 54.6875 \nL 18.109375 46.1875 \nQ 20.953125 51.171875 25.484375 53.578125 \nQ 30.03125 56 36.53125 56 \nQ 37.453125 56 38.578125 55.875 \nQ 39.703125 55.765625 41.0625 55.515625 \nz\n\" id=\"DejaVuSans-72\"/>\n     <path d=\"M 56.203125 29.59375 \nL 56.203125 25.203125 \nL 14.890625 25.203125 \nQ 15.484375 15.921875 20.484375 11.0625 \nQ 25.484375 6.203125 34.421875 6.203125 \nQ 39.59375 6.203125 44.453125 7.46875 \nQ 49.3125 8.734375 54.109375 11.28125 \nL 54.109375 2.78125 \nQ 49.265625 0.734375 44.1875 -0.34375 \nQ 39.109375 -1.421875 33.890625 -1.421875 \nQ 20.796875 -1.421875 13.15625 6.1875 \nQ 5.515625 13.8125 5.515625 26.8125 \nQ 5.515625 40.234375 12.765625 48.109375 \nQ 20.015625 56 32.328125 56 \nQ 43.359375 56 49.78125 48.890625 \nQ 56.203125 41.796875 56.203125 29.59375 \nz\nM 47.21875 32.234375 \nQ 47.125 39.59375 43.09375 43.984375 \nQ 39.0625 48.390625 32.421875 48.390625 \nQ 24.90625 48.390625 20.390625 44.140625 \nQ 15.875 39.890625 15.1875 32.171875 \nz\n\" id=\"DejaVuSans-65\"/>\n     <path d=\"M 48.78125 52.59375 \nL 48.78125 44.1875 \nQ 44.96875 46.296875 41.140625 47.34375 \nQ 37.3125 48.390625 33.40625 48.390625 \nQ 24.65625 48.390625 19.8125 42.84375 \nQ 14.984375 37.3125 14.984375 27.296875 \nQ 14.984375 17.28125 19.8125 11.734375 \nQ 24.65625 6.203125 33.40625 6.203125 \nQ 37.3125 6.203125 41.140625 7.25 \nQ 44.96875 8.296875 48.78125 10.40625 \nL 48.78125 2.09375 \nQ 45.015625 0.34375 40.984375 -0.53125 \nQ 36.96875 -1.421875 32.421875 -1.421875 \nQ 20.0625 -1.421875 12.78125 6.34375 \nQ 5.515625 14.109375 5.515625 27.296875 \nQ 5.515625 40.671875 12.859375 48.328125 \nQ 20.21875 56 33.015625 56 \nQ 37.15625 56 41.109375 55.140625 \nQ 45.0625 54.296875 48.78125 52.59375 \nz\n\" id=\"DejaVuSans-63\"/>\n     <path d=\"M 30.609375 48.390625 \nQ 23.390625 48.390625 19.1875 42.75 \nQ 14.984375 37.109375 14.984375 27.296875 \nQ 14.984375 17.484375 19.15625 11.84375 \nQ 23.34375 6.203125 30.609375 6.203125 \nQ 37.796875 6.203125 41.984375 11.859375 \nQ 46.1875 17.53125 46.1875 27.296875 \nQ 46.1875 37.015625 41.984375 42.703125 \nQ 37.796875 48.390625 30.609375 48.390625 \nz\nM 30.609375 56 \nQ 42.328125 56 49.015625 48.375 \nQ 55.71875 40.765625 55.71875 27.296875 \nQ 55.71875 13.875 49.015625 6.21875 \nQ 42.328125 -1.421875 30.609375 -1.421875 \nQ 18.84375 -1.421875 12.171875 6.21875 \nQ 5.515625 13.875 5.515625 27.296875 \nQ 5.515625 40.765625 12.171875 48.375 \nQ 18.84375 56 30.609375 56 \nz\n\" id=\"DejaVuSans-6f\"/>\n     <path d=\"M 2.984375 54.6875 \nL 12.5 54.6875 \nL 29.59375 8.796875 \nL 46.6875 54.6875 \nL 56.203125 54.6875 \nL 35.6875 0 \nL 23.484375 0 \nz\n\" id=\"DejaVuSans-76\"/>\n     <path d=\"M 45.40625 46.390625 \nL 45.40625 75.984375 \nL 54.390625 75.984375 \nL 54.390625 0 \nL 45.40625 0 \nL 45.40625 8.203125 \nQ 42.578125 3.328125 38.25 0.953125 \nQ 33.9375 -1.421875 27.875 -1.421875 \nQ 17.96875 -1.421875 11.734375 6.484375 \nQ 5.515625 14.40625 5.515625 27.296875 \nQ 5.515625 40.1875 11.734375 48.09375 \nQ 17.96875 56 27.875 56 \nQ 33.9375 56 38.25 53.625 \nQ 42.578125 51.265625 45.40625 46.390625 \nz\nM 14.796875 27.296875 \nQ 14.796875 17.390625 18.875 11.75 \nQ 22.953125 6.109375 30.078125 6.109375 \nQ 37.203125 6.109375 41.296875 11.75 \nQ 45.40625 17.390625 45.40625 27.296875 \nQ 45.40625 37.203125 41.296875 42.84375 \nQ 37.203125 48.484375 30.078125 48.484375 \nQ 22.953125 48.484375 18.875 42.84375 \nQ 14.796875 37.203125 14.796875 27.296875 \nz\n\" id=\"DejaVuSans-64\"/>\n    </defs>\n    <g transform=\"translate(75.314701 213.370613)scale(0.1 -0.1)\">\n     <use xlink:href=\"#DejaVuSans-72\"/>\n     <use x=\"41.082031\" xlink:href=\"#DejaVuSans-65\"/>\n     <use x=\"102.605469\" xlink:href=\"#DejaVuSans-63\"/>\n     <use x=\"157.585938\" xlink:href=\"#DejaVuSans-6f\"/>\n     <use x=\"218.767578\" xlink:href=\"#DejaVuSans-76\"/>\n     <use x=\"277.947266\" xlink:href=\"#DejaVuSans-65\"/>\n     <use x=\"339.470703\" xlink:href=\"#DejaVuSans-72\"/>\n     <use x=\"380.568359\" xlink:href=\"#DejaVuSans-64\"/>\n    </g>\n   </g>\n   <g id=\"text_2\">\n    <!-- 81.9% -->\n    <defs>\n     <path d=\"M 31.78125 34.625 \nQ 24.75 34.625 20.71875 30.859375 \nQ 16.703125 27.09375 16.703125 20.515625 \nQ 16.703125 13.921875 20.71875 10.15625 \nQ 24.75 6.390625 31.78125 6.390625 \nQ 38.8125 6.390625 42.859375 10.171875 \nQ 46.921875 13.96875 46.921875 20.515625 \nQ 46.921875 27.09375 42.890625 30.859375 \nQ 38.875 34.625 31.78125 34.625 \nz\nM 21.921875 38.8125 \nQ 15.578125 40.375 12.03125 44.71875 \nQ 8.5 49.078125 8.5 55.328125 \nQ 8.5 64.0625 14.71875 69.140625 \nQ 20.953125 74.21875 31.78125 74.21875 \nQ 42.671875 74.21875 48.875 69.140625 \nQ 55.078125 64.0625 55.078125 55.328125 \nQ 55.078125 49.078125 51.53125 44.71875 \nQ 48 40.375 41.703125 38.8125 \nQ 48.828125 37.15625 52.796875 32.3125 \nQ 56.78125 27.484375 56.78125 20.515625 \nQ 56.78125 9.90625 50.3125 4.234375 \nQ 43.84375 -1.421875 31.78125 -1.421875 \nQ 19.734375 -1.421875 13.25 4.234375 \nQ 6.78125 9.90625 6.78125 20.515625 \nQ 6.78125 27.484375 10.78125 32.3125 \nQ 14.796875 37.15625 21.921875 38.8125 \nz\nM 18.3125 54.390625 \nQ 18.3125 48.734375 21.84375 45.5625 \nQ 25.390625 42.390625 31.78125 42.390625 \nQ 38.140625 42.390625 41.71875 45.5625 \nQ 45.3125 48.734375 45.3125 54.390625 \nQ 45.3125 60.0625 41.71875 63.234375 \nQ 38.140625 66.40625 31.78125 66.40625 \nQ 25.390625 66.40625 21.84375 63.234375 \nQ 18.3125 60.0625 18.3125 54.390625 \nz\n\" id=\"DejaVuSans-38\"/>\n     <path d=\"M 12.40625 8.296875 \nL 28.515625 8.296875 \nL 28.515625 63.921875 \nL 10.984375 60.40625 \nL 10.984375 69.390625 \nL 28.421875 72.90625 \nL 38.28125 72.90625 \nL 38.28125 8.296875 \nL 54.390625 8.296875 \nL 54.390625 0 \nL 12.40625 0 \nz\n\" id=\"DejaVuSans-31\"/>\n     <path d=\"M 10.6875 12.40625 \nL 21 12.40625 \nL 21 0 \nL 10.6875 0 \nz\n\" id=\"DejaVuSans-2e\"/>\n     <path d=\"M 10.984375 1.515625 \nL 10.984375 10.5 \nQ 14.703125 8.734375 18.5 7.8125 \nQ 22.3125 6.890625 25.984375 6.890625 \nQ 35.75 6.890625 40.890625 13.453125 \nQ 46.046875 20.015625 46.78125 33.40625 \nQ 43.953125 29.203125 39.59375 26.953125 \nQ 35.25 24.703125 29.984375 24.703125 \nQ 19.046875 24.703125 12.671875 31.3125 \nQ 6.296875 37.9375 6.296875 49.421875 \nQ 6.296875 60.640625 12.9375 67.421875 \nQ 19.578125 74.21875 30.609375 74.21875 \nQ 43.265625 74.21875 49.921875 64.515625 \nQ 56.59375 54.828125 56.59375 36.375 \nQ 56.59375 19.140625 48.40625 8.859375 \nQ 40.234375 -1.421875 26.421875 -1.421875 \nQ 22.703125 -1.421875 18.890625 -0.6875 \nQ 15.09375 0.046875 10.984375 1.515625 \nz\nM 30.609375 32.421875 \nQ 37.25 32.421875 41.125 36.953125 \nQ 45.015625 41.5 45.015625 49.421875 \nQ 45.015625 57.28125 41.125 61.84375 \nQ 37.25 66.40625 30.609375 66.40625 \nQ 23.96875 66.40625 20.09375 61.84375 \nQ 16.21875 57.28125 16.21875 49.421875 \nQ 16.21875 41.5 20.09375 36.953125 \nQ 23.96875 32.421875 30.609375 32.421875 \nz\n\" id=\"DejaVuSans-39\"/>\n     <path d=\"M 72.703125 32.078125 \nQ 68.453125 32.078125 66.03125 28.46875 \nQ 63.625 24.859375 63.625 18.40625 \nQ 63.625 12.0625 66.03125 8.421875 \nQ 68.453125 4.78125 72.703125 4.78125 \nQ 76.859375 4.78125 79.265625 8.421875 \nQ 81.6875 12.0625 81.6875 18.40625 \nQ 81.6875 24.8125 79.265625 28.4375 \nQ 76.859375 32.078125 72.703125 32.078125 \nz\nM 72.703125 38.28125 \nQ 80.421875 38.28125 84.953125 32.90625 \nQ 89.5 27.546875 89.5 18.40625 \nQ 89.5 9.28125 84.9375 3.921875 \nQ 80.375 -1.421875 72.703125 -1.421875 \nQ 64.890625 -1.421875 60.34375 3.921875 \nQ 55.8125 9.28125 55.8125 18.40625 \nQ 55.8125 27.59375 60.375 32.9375 \nQ 64.9375 38.28125 72.703125 38.28125 \nz\nM 22.3125 68.015625 \nQ 18.109375 68.015625 15.6875 64.375 \nQ 13.28125 60.75 13.28125 54.390625 \nQ 13.28125 47.953125 15.671875 44.328125 \nQ 18.0625 40.71875 22.3125 40.71875 \nQ 26.5625 40.71875 28.96875 44.328125 \nQ 31.390625 47.953125 31.390625 54.390625 \nQ 31.390625 60.6875 28.953125 64.34375 \nQ 26.515625 68.015625 22.3125 68.015625 \nz\nM 66.40625 74.21875 \nL 74.21875 74.21875 \nL 28.609375 -1.421875 \nL 20.796875 -1.421875 \nz\nM 22.3125 74.21875 \nQ 30.03125 74.21875 34.609375 68.875 \nQ 39.203125 63.53125 39.203125 54.390625 \nQ 39.203125 45.171875 34.640625 39.84375 \nQ 30.078125 34.515625 22.3125 34.515625 \nQ 14.546875 34.515625 10.03125 39.859375 \nQ 5.515625 45.21875 5.515625 54.390625 \nQ 5.515625 63.484375 10.046875 68.84375 \nQ 14.59375 74.21875 22.3125 74.21875 \nz\n\" id=\"DejaVuSans-25\"/>\n    </defs>\n    <g transform=\"translate(130.321295 171.801617)scale(0.1 -0.1)\">\n     <use xlink:href=\"#DejaVuSans-38\"/>\n     <use x=\"63.623047\" xlink:href=\"#DejaVuSans-31\"/>\n     <use x=\"127.246094\" xlink:href=\"#DejaVuSans-2e\"/>\n     <use x=\"159.033203\" xlink:href=\"#DejaVuSans-39\"/>\n     <use x=\"222.65625\" xlink:href=\"#DejaVuSans-25\"/>\n    </g>\n   </g>\n   <g id=\"text_3\">\n    <!-- died -->\n    <defs>\n     <path d=\"M 9.421875 54.6875 \nL 18.40625 54.6875 \nL 18.40625 0 \nL 9.421875 0 \nz\nM 9.421875 75.984375 \nL 18.40625 75.984375 \nL 18.40625 64.59375 \nL 9.421875 64.59375 \nz\n\" id=\"DejaVuSans-69\"/>\n    </defs>\n    <g transform=\"translate(236.244975 30.467037)scale(0.1 -0.1)\">\n     <use xlink:href=\"#DejaVuSans-64\"/>\n     <use x=\"63.476562\" xlink:href=\"#DejaVuSans-69\"/>\n     <use x=\"91.259766\" xlink:href=\"#DejaVuSans-65\"/>\n     <use x=\"152.783203\" xlink:href=\"#DejaVuSans-64\"/>\n    </g>\n   </g>\n   <g id=\"text_4\">\n    <!-- 18.1% -->\n    <g transform=\"translate(193.879002 72.03603)scale(0.1 -0.1)\">\n     <use xlink:href=\"#DejaVuSans-31\"/>\n     <use x=\"63.623047\" xlink:href=\"#DejaVuSans-38\"/>\n     <use x=\"127.246094\" xlink:href=\"#DejaVuSans-2e\"/>\n     <use x=\"159.033203\" xlink:href=\"#DejaVuSans-31\"/>\n     <use x=\"222.65625\" xlink:href=\"#DejaVuSans-25\"/>\n    </g>\n   </g>\n  </g>\n </g>\n</svg>\n",
      "image/png": "[encoded data removed]"
     },
     "metadata": {}
    }
   ],
   "source": [
    "values = dataset['outcome'].value_counts()\n",
    "labels = 'recoverd', 'died'\n",
    "\n",
    "pie_chart(values, labels)"
   ]
  },
  {
   "cell_type": "code",
   "execution_count": 8,
   "metadata": {},
   "outputs": [
    {
     "output_type": "stream",
     "name": "stdout",
     "text": [
      "Percentage of total dataset by gender\n"
     ]
    },
    {
     "output_type": "display_data",
     "data": {
      "text/plain": "<Figure size 432x288 with 1 Axes>",
      "image/svg+xml": "<?xml version=\"1.0\" encoding=\"utf-8\" standalone=\"no\"?>\n<!DOCTYPE svg PUBLIC \"-//W3C//DTD SVG 1.1//EN\"\n  \"http://www.w3.org/Graphics/SVG/1.1/DTD/svg11.dtd\">\n<!-- Created with matplotlib (http://matplotlib.org/) -->\n<svg height=\"238.84pt\" version=\"1.1\" viewBox=\"0 0 356.2 238.84\" width=\"356.2pt\" xmlns=\"http://www.w3.org/2000/svg\" xmlns:xlink=\"http://www.w3.org/1999/xlink\">\n <defs>\n  <style type=\"text/css\">\n*{stroke-linecap:butt;stroke-linejoin:round;}\n  </style>\n </defs>\n <g id=\"figure_1\">\n  <g id=\"patch_1\">\n   <path d=\"M 0 238.84 \nL 356.2 238.84 \nL 356.2 0 \nL 0 0 \nz\n\" style=\"fill:none;\"/>\n  </g>\n  <g id=\"axes_1\">\n   <g id=\"patch_2\">\n    <path d=\"M 175.824761 22.551836 \nC 162.472586 22.551836 149.259032 25.269259 136.990452 30.538276 \nC 124.721872 35.807292 113.65301 43.518497 104.459338 53.201317 \nC 95.265666 62.884136 88.138082 74.337517 83.511543 86.862521 \nC 78.885004 99.387525 76.855576 112.724085 77.547103 126.058341 \nC 78.238631 139.392597 81.636755 152.447678 87.534107 164.426903 \nC 93.431459 176.406128 101.705586 187.060761 111.851563 195.740608 \nC 121.99754 204.420455 133.804697 210.945287 146.552507 214.91693 \nC 159.300316 218.888572 172.724084 220.224558 186.004629 218.84336 \nL 175.824761 120.961567 \nL 175.824761 22.551836 \nz\n\" style=\"fill:#092436;opacity:0.5;stroke:#092436;stroke-linejoin:miter;\"/>\n   </g>\n   <g id=\"patch_3\">\n    <path d=\"M 186.004629 218.84336 \nC 211.078492 216.235637 234.21613 204.090515 250.603806 184.934761 \nC 266.991482 165.779008 275.408035 141.040052 274.102419 115.864783 \nC 272.796802 90.689514 261.866308 66.953917 243.585001 49.596134 \nC 225.303695 32.23835 201.033845 22.551831 175.824743 22.551836 \nL 175.824761 120.961567 \nL 186.004629 218.84336 \nz\n\" style=\"fill:#4c2604;opacity:0.5;stroke:#4c2604;stroke-linejoin:miter;\"/>\n   </g>\n   <g id=\"patch_4\">\n    <path d=\"M 177.792956 20.583641 \nC 164.44078 20.583641 151.227226 23.301064 138.958647 28.570081 \nC 126.690067 33.839098 115.621204 41.550302 106.427533 51.233122 \nC 97.233861 60.915941 90.106277 72.369322 85.479738 84.894327 \nC 80.853199 97.419331 78.823771 110.75589 79.515298 124.090146 \nC 80.206825 137.424402 83.60495 150.479483 89.502301 162.458708 \nC 95.399653 174.437933 103.67378 185.092567 113.819758 193.772413 \nC 123.965735 202.45226 135.772892 208.977092 148.520701 212.948735 \nC 161.268511 216.920378 174.692278 218.256364 187.972824 216.875165 \nL 177.792956 118.993372 \nL 177.792956 20.583641 \nz\n\" style=\"fill:#1f77b4;\"/>\n   </g>\n   <g id=\"patch_5\">\n    <path d=\"M 187.972824 216.875165 \nC 213.046686 214.267442 236.184324 202.12232 252.572 182.966567 \nC 268.959676 163.810813 277.376229 139.071858 276.070613 113.896589 \nC 274.764997 88.721319 263.834502 64.985722 245.553196 47.627939 \nC 227.271889 30.270156 203.002039 20.583636 177.792937 20.583641 \nL 177.792956 118.993372 \nL 187.972824 216.875165 \nz\n\" style=\"fill:#ff7f0e;\"/>\n   </g>\n   <g id=\"matplotlib.axis_1\"/>\n   <g id=\"matplotlib.axis_2\"/>\n   <g id=\"text_1\">\n    <!-- male -->\n    <defs>\n     <path d=\"M 52 44.1875 \nQ 55.375 50.25 60.0625 53.125 \nQ 64.75 56 71.09375 56 \nQ 79.640625 56 84.28125 50.015625 \nQ 88.921875 44.046875 88.921875 33.015625 \nL 88.921875 0 \nL 79.890625 0 \nL 79.890625 32.71875 \nQ 79.890625 40.578125 77.09375 44.375 \nQ 74.3125 48.1875 68.609375 48.1875 \nQ 61.625 48.1875 57.5625 43.546875 \nQ 53.515625 38.921875 53.515625 30.90625 \nL 53.515625 0 \nL 44.484375 0 \nL 44.484375 32.71875 \nQ 44.484375 40.625 41.703125 44.40625 \nQ 38.921875 48.1875 33.109375 48.1875 \nQ 26.21875 48.1875 22.15625 43.53125 \nQ 18.109375 38.875 18.109375 30.90625 \nL 18.109375 0 \nL 9.078125 0 \nL 9.078125 54.6875 \nL 18.109375 54.6875 \nL 18.109375 46.1875 \nQ 21.1875 51.21875 25.484375 53.609375 \nQ 29.78125 56 35.6875 56 \nQ 41.65625 56 45.828125 52.96875 \nQ 50 49.953125 52 44.1875 \nz\n\" id=\"DejaVuSans-6d\"/>\n     <path d=\"M 34.28125 27.484375 \nQ 23.390625 27.484375 19.1875 25 \nQ 14.984375 22.515625 14.984375 16.5 \nQ 14.984375 11.71875 18.140625 8.90625 \nQ 21.296875 6.109375 26.703125 6.109375 \nQ 34.1875 6.109375 38.703125 11.40625 \nQ 43.21875 16.703125 43.21875 25.484375 \nL 43.21875 27.484375 \nz\nM 52.203125 31.203125 \nL 52.203125 0 \nL 43.21875 0 \nL 43.21875 8.296875 \nQ 40.140625 3.328125 35.546875 0.953125 \nQ 30.953125 -1.421875 24.3125 -1.421875 \nQ 15.921875 -1.421875 10.953125 3.296875 \nQ 6 8.015625 6 15.921875 \nQ 6 25.140625 12.171875 29.828125 \nQ 18.359375 34.515625 30.609375 34.515625 \nL 43.21875 34.515625 \nL 43.21875 35.40625 \nQ 43.21875 41.609375 39.140625 45 \nQ 35.0625 48.390625 27.6875 48.390625 \nQ 23 48.390625 18.546875 47.265625 \nQ 14.109375 46.140625 10.015625 43.890625 \nL 10.015625 52.203125 \nQ 14.9375 54.109375 19.578125 55.046875 \nQ 24.21875 56 28.609375 56 \nQ 40.484375 56 46.34375 49.84375 \nQ 52.203125 43.703125 52.203125 31.203125 \nz\n\" id=\"DejaVuSans-61\"/>\n     <path d=\"M 9.421875 75.984375 \nL 18.40625 75.984375 \nL 18.40625 0 \nL 9.421875 0 \nz\n\" id=\"DejaVuSans-6c\"/>\n     <path d=\"M 56.203125 29.59375 \nL 56.203125 25.203125 \nL 14.890625 25.203125 \nQ 15.484375 15.921875 20.484375 11.0625 \nQ 25.484375 6.203125 34.421875 6.203125 \nQ 39.59375 6.203125 44.453125 7.46875 \nQ 49.3125 8.734375 54.109375 11.28125 \nL 54.109375 2.78125 \nQ 49.265625 0.734375 44.1875 -0.34375 \nQ 39.109375 -1.421875 33.890625 -1.421875 \nQ 20.796875 -1.421875 13.15625 6.1875 \nQ 5.515625 13.8125 5.515625 26.8125 \nQ 5.515625 40.234375 12.765625 48.109375 \nQ 20.015625 56 32.328125 56 \nQ 43.359375 56 49.78125 48.890625 \nQ 56.203125 41.796875 56.203125 29.59375 \nz\nM 47.21875 32.234375 \nQ 47.125 39.59375 43.09375 43.984375 \nQ 39.0625 48.390625 32.421875 48.390625 \nQ 24.90625 48.390625 20.390625 44.140625 \nQ 15.875 39.890625 15.1875 32.171875 \nz\n\" id=\"DejaVuSans-65\"/>\n    </defs>\n    <g transform=\"translate(44.887532 127.359199)scale(0.1 -0.1)\">\n     <use xlink:href=\"#DejaVuSans-6d\"/>\n     <use x=\"97.412109\" xlink:href=\"#DejaVuSans-61\"/>\n     <use x=\"158.691406\" xlink:href=\"#DejaVuSans-6c\"/>\n     <use x=\"186.474609\" xlink:href=\"#DejaVuSans-65\"/>\n    </g>\n   </g>\n   <g id=\"text_2\">\n    <!-- 51.6% -->\n    <defs>\n     <path d=\"M 10.796875 72.90625 \nL 49.515625 72.90625 \nL 49.515625 64.59375 \nL 19.828125 64.59375 \nL 19.828125 46.734375 \nQ 21.96875 47.46875 24.109375 47.828125 \nQ 26.265625 48.1875 28.421875 48.1875 \nQ 40.625 48.1875 47.75 41.5 \nQ 54.890625 34.8125 54.890625 23.390625 \nQ 54.890625 11.625 47.5625 5.09375 \nQ 40.234375 -1.421875 26.90625 -1.421875 \nQ 22.3125 -1.421875 17.546875 -0.640625 \nQ 12.796875 0.140625 7.71875 1.703125 \nL 7.71875 11.625 \nQ 12.109375 9.234375 16.796875 8.0625 \nQ 21.484375 6.890625 26.703125 6.890625 \nQ 35.15625 6.890625 40.078125 11.328125 \nQ 45.015625 15.765625 45.015625 23.390625 \nQ 45.015625 31 40.078125 35.4375 \nQ 35.15625 39.890625 26.703125 39.890625 \nQ 22.75 39.890625 18.8125 39.015625 \nQ 14.890625 38.140625 10.796875 36.28125 \nz\n\" id=\"DejaVuSans-35\"/>\n     <path d=\"M 12.40625 8.296875 \nL 28.515625 8.296875 \nL 28.515625 63.921875 \nL 10.984375 60.40625 \nL 10.984375 69.390625 \nL 28.421875 72.90625 \nL 38.28125 72.90625 \nL 38.28125 8.296875 \nL 54.390625 8.296875 \nL 54.390625 0 \nL 12.40625 0 \nz\n\" id=\"DejaVuSans-31\"/>\n     <path d=\"M 10.6875 12.40625 \nL 21 12.40625 \nL 21 0 \nL 10.6875 0 \nz\n\" id=\"DejaVuSans-2e\"/>\n     <path d=\"M 33.015625 40.375 \nQ 26.375 40.375 22.484375 35.828125 \nQ 18.609375 31.296875 18.609375 23.390625 \nQ 18.609375 15.53125 22.484375 10.953125 \nQ 26.375 6.390625 33.015625 6.390625 \nQ 39.65625 6.390625 43.53125 10.953125 \nQ 47.40625 15.53125 47.40625 23.390625 \nQ 47.40625 31.296875 43.53125 35.828125 \nQ 39.65625 40.375 33.015625 40.375 \nz\nM 52.59375 71.296875 \nL 52.59375 62.3125 \nQ 48.875 64.0625 45.09375 64.984375 \nQ 41.3125 65.921875 37.59375 65.921875 \nQ 27.828125 65.921875 22.671875 59.328125 \nQ 17.53125 52.734375 16.796875 39.40625 \nQ 19.671875 43.65625 24.015625 45.921875 \nQ 28.375 48.1875 33.59375 48.1875 \nQ 44.578125 48.1875 50.953125 41.515625 \nQ 57.328125 34.859375 57.328125 23.390625 \nQ 57.328125 12.15625 50.6875 5.359375 \nQ 44.046875 -1.421875 33.015625 -1.421875 \nQ 20.359375 -1.421875 13.671875 8.265625 \nQ 6.984375 17.96875 6.984375 36.375 \nQ 6.984375 53.65625 15.1875 63.9375 \nQ 23.390625 74.21875 37.203125 74.21875 \nQ 40.921875 74.21875 44.703125 73.484375 \nQ 48.484375 72.75 52.59375 71.296875 \nz\n\" id=\"DejaVuSans-36\"/>\n     <path d=\"M 72.703125 32.078125 \nQ 68.453125 32.078125 66.03125 28.46875 \nQ 63.625 24.859375 63.625 18.40625 \nQ 63.625 12.0625 66.03125 8.421875 \nQ 68.453125 4.78125 72.703125 4.78125 \nQ 76.859375 4.78125 79.265625 8.421875 \nQ 81.6875 12.0625 81.6875 18.40625 \nQ 81.6875 24.8125 79.265625 28.4375 \nQ 76.859375 32.078125 72.703125 32.078125 \nz\nM 72.703125 38.28125 \nQ 80.421875 38.28125 84.953125 32.90625 \nQ 89.5 27.546875 89.5 18.40625 \nQ 89.5 9.28125 84.9375 3.921875 \nQ 80.375 -1.421875 72.703125 -1.421875 \nQ 64.890625 -1.421875 60.34375 3.921875 \nQ 55.8125 9.28125 55.8125 18.40625 \nQ 55.8125 27.59375 60.375 32.9375 \nQ 64.9375 38.28125 72.703125 38.28125 \nz\nM 22.3125 68.015625 \nQ 18.109375 68.015625 15.6875 64.375 \nQ 13.28125 60.75 13.28125 54.390625 \nQ 13.28125 47.953125 15.671875 44.328125 \nQ 18.0625 40.71875 22.3125 40.71875 \nQ 26.5625 40.71875 28.96875 44.328125 \nQ 31.390625 47.953125 31.390625 54.390625 \nQ 31.390625 60.6875 28.953125 64.34375 \nQ 26.515625 68.015625 22.3125 68.015625 \nz\nM 66.40625 74.21875 \nL 74.21875 74.21875 \nL 28.609375 -1.421875 \nL 20.796875 -1.421875 \nz\nM 22.3125 74.21875 \nQ 30.03125 74.21875 34.609375 68.875 \nQ 39.203125 63.53125 39.203125 54.390625 \nQ 39.203125 45.171875 34.640625 39.84375 \nQ 30.078125 34.515625 22.3125 34.515625 \nQ 14.546875 34.515625 10.03125 39.859375 \nQ 5.515625 45.21875 5.515625 54.390625 \nQ 5.515625 63.484375 10.046875 68.84375 \nQ 14.59375 74.21875 22.3125 74.21875 \nz\n\" id=\"DejaVuSans-25\"/>\n    </defs>\n    <g transform=\"translate(102.942767 124.810811)scale(0.1 -0.1)\">\n     <use xlink:href=\"#DejaVuSans-35\"/>\n     <use x=\"63.623047\" xlink:href=\"#DejaVuSans-31\"/>\n     <use x=\"127.246094\" xlink:href=\"#DejaVuSans-2e\"/>\n     <use x=\"159.033203\" xlink:href=\"#DejaVuSans-36\"/>\n     <use x=\"222.65625\" xlink:href=\"#DejaVuSans-25\"/>\n    </g>\n   </g>\n   <g id=\"text_3\">\n    <!-- female -->\n    <defs>\n     <path d=\"M 37.109375 75.984375 \nL 37.109375 68.5 \nL 28.515625 68.5 \nQ 23.6875 68.5 21.796875 66.546875 \nQ 19.921875 64.59375 19.921875 59.515625 \nL 19.921875 54.6875 \nL 34.71875 54.6875 \nL 34.71875 47.703125 \nL 19.921875 47.703125 \nL 19.921875 0 \nL 10.890625 0 \nL 10.890625 47.703125 \nL 2.296875 47.703125 \nL 2.296875 54.6875 \nL 10.890625 54.6875 \nL 10.890625 58.5 \nQ 10.890625 67.625 15.140625 71.796875 \nQ 19.390625 75.984375 28.609375 75.984375 \nz\n\" id=\"DejaVuSans-66\"/>\n    </defs>\n    <g transform=\"translate(285.898379 116.146285)scale(0.1 -0.1)\">\n     <use xlink:href=\"#DejaVuSans-66\"/>\n     <use x=\"35.205078\" xlink:href=\"#DejaVuSans-65\"/>\n     <use x=\"96.728516\" xlink:href=\"#DejaVuSans-6d\"/>\n     <use x=\"194.140625\" xlink:href=\"#DejaVuSans-61\"/>\n     <use x=\"255.419922\" xlink:href=\"#DejaVuSans-6c\"/>\n     <use x=\"283.203125\" xlink:href=\"#DejaVuSans-65\"/>\n    </g>\n   </g>\n   <g id=\"text_4\">\n    <!-- 48.4% -->\n    <defs>\n     <path d=\"M 37.796875 64.3125 \nL 12.890625 25.390625 \nL 37.796875 25.390625 \nz\nM 35.203125 72.90625 \nL 47.609375 72.90625 \nL 47.609375 25.390625 \nL 58.015625 25.390625 \nL 58.015625 17.1875 \nL 47.609375 17.1875 \nL 47.609375 0 \nL 37.796875 0 \nL 37.796875 17.1875 \nL 4.890625 17.1875 \nL 4.890625 26.703125 \nz\n\" id=\"DejaVuSans-34\"/>\n     <path d=\"M 31.78125 34.625 \nQ 24.75 34.625 20.71875 30.859375 \nQ 16.703125 27.09375 16.703125 20.515625 \nQ 16.703125 13.921875 20.71875 10.15625 \nQ 24.75 6.390625 31.78125 6.390625 \nQ 38.8125 6.390625 42.859375 10.171875 \nQ 46.921875 13.96875 46.921875 20.515625 \nQ 46.921875 27.09375 42.890625 30.859375 \nQ 38.875 34.625 31.78125 34.625 \nz\nM 21.921875 38.8125 \nQ 15.578125 40.375 12.03125 44.71875 \nQ 8.5 49.078125 8.5 55.328125 \nQ 8.5 64.0625 14.71875 69.140625 \nQ 20.953125 74.21875 31.78125 74.21875 \nQ 42.671875 74.21875 48.875 69.140625 \nQ 55.078125 64.0625 55.078125 55.328125 \nQ 55.078125 49.078125 51.53125 44.71875 \nQ 48 40.375 41.703125 38.8125 \nQ 48.828125 37.15625 52.796875 32.3125 \nQ 56.78125 27.484375 56.78125 20.515625 \nQ 56.78125 9.90625 50.3125 4.234375 \nQ 43.84375 -1.421875 31.78125 -1.421875 \nQ 19.734375 -1.421875 13.25 4.234375 \nQ 6.78125 9.90625 6.78125 20.515625 \nQ 6.78125 27.484375 10.78125 32.3125 \nQ 14.796875 37.15625 21.921875 38.8125 \nz\nM 18.3125 54.390625 \nQ 18.3125 48.734375 21.84375 45.5625 \nQ 25.390625 42.390625 31.78125 42.390625 \nQ 38.140625 42.390625 41.71875 45.5625 \nQ 45.3125 48.734375 45.3125 54.390625 \nQ 45.3125 60.0625 41.71875 63.234375 \nQ 38.140625 66.40625 31.78125 66.40625 \nQ 25.390625 66.40625 21.84375 63.234375 \nQ 18.3125 60.0625 18.3125 54.390625 \nz\n\" id=\"DejaVuSans-38\"/>\n    </defs>\n    <g transform=\"translate(220.875957 118.694677)scale(0.1 -0.1)\">\n     <use xlink:href=\"#DejaVuSans-34\"/>\n     <use x=\"63.623047\" xlink:href=\"#DejaVuSans-38\"/>\n     <use x=\"127.246094\" xlink:href=\"#DejaVuSans-2e\"/>\n     <use x=\"159.033203\" xlink:href=\"#DejaVuSans-34\"/>\n     <use x=\"222.65625\" xlink:href=\"#DejaVuSans-25\"/>\n    </g>\n   </g>\n  </g>\n </g>\n</svg>\n",
      "image/png": "[encoded data removed]"
     },
     "metadata": {}
    },
    {
     "output_type": "stream",
     "name": "stdout",
     "text": [
      "Percentage of individuals who died by gender\n"
     ]
    },
    {
     "output_type": "display_data",
     "data": {
      "text/plain": "<Figure size 432x288 with 1 Axes>",
      "image/svg+xml": "<?xml version=\"1.0\" encoding=\"utf-8\" standalone=\"no\"?>\n<!DOCTYPE svg PUBLIC \"-//W3C//DTD SVG 1.1//EN\"\n  \"http://www.w3.org/Graphics/SVG/1.1/DTD/svg11.dtd\">\n<!-- Created with matplotlib (http://matplotlib.org/) -->\n<svg height=\"238.84pt\" version=\"1.1\" viewBox=\"0 0 356.2 238.84\" width=\"356.2pt\" xmlns=\"http://www.w3.org/2000/svg\" xmlns:xlink=\"http://www.w3.org/1999/xlink\">\n <defs>\n  <style type=\"text/css\">\n*{stroke-linecap:butt;stroke-linejoin:round;}\n  </style>\n </defs>\n <g id=\"figure_1\">\n  <g id=\"patch_1\">\n   <path d=\"M 0 238.84 \nL 356.2 238.84 \nL 356.2 0 \nL 0 0 \nz\n\" style=\"fill:none;\"/>\n  </g>\n  <g id=\"axes_1\">\n   <g id=\"patch_2\">\n    <path d=\"M 175.925158 22.548238 \nC 160.440895 22.548238 145.173816 26.209475 131.373699 33.232237 \nC 117.573581 40.254999 105.627551 50.44228 96.51352 62.960142 \nC 87.399489 75.478004 81.373128 89.97529 78.927759 105.265241 \nC 76.48239 120.555192 77.686612 136.208887 82.441846 150.944904 \nC 87.197081 165.68092 95.369932 179.085876 106.291363 190.062431 \nC 117.212794 201.038986 130.576434 209.279222 145.288323 214.108585 \nC 160.000211 218.937949 175.647646 220.220966 190.949714 217.852606 \nC 206.251783 215.484246 220.779226 209.530949 233.342814 200.480056 \nL 175.925158 120.778334 \nL 175.925158 22.548238 \nz\n\" style=\"fill:#092436;opacity:0.5;stroke:#092436;stroke-linejoin:miter;\"/>\n   </g>\n   <g id=\"patch_3\">\n    <path d=\"M 233.342814 200.480056 \nC 250.198952 188.336781 262.776018 171.153609 269.25541 151.41517 \nC 275.734803 131.676731 275.788406 110.382573 269.408471 90.611764 \nC 263.028535 70.840954 250.538138 53.594679 233.74335 41.366695 \nC 216.948562 29.138711 196.699867 22.548238 175.925158 22.548238 \nL 175.925158 120.778334 \nL 233.342814 200.480056 \nz\n\" style=\"fill:#4c2604;opacity:0.5;stroke:#4c2604;stroke-linejoin:miter;\"/>\n   </g>\n   <g id=\"patch_4\">\n    <path d=\"M 177.88976 20.583636 \nC 162.405497 20.583636 147.138418 24.244873 133.338301 31.267635 \nC 119.538183 38.290397 107.592153 48.477678 98.478122 60.99554 \nC 89.364091 73.513402 83.337729 88.010688 80.892361 103.300639 \nC 78.446992 118.59059 79.651214 134.244286 84.406448 148.980302 \nC 89.161682 163.716318 97.334533 177.121274 108.255965 188.097829 \nC 119.177396 199.074384 132.541036 207.31462 147.252924 212.143984 \nC 161.964813 216.973347 177.612248 218.256364 192.914316 215.888004 \nC 208.216385 213.519644 222.743827 207.566347 235.307416 198.515454 \nL 177.88976 118.813732 \nL 177.88976 20.583636 \nz\n\" style=\"fill:#1f77b4;\"/>\n   </g>\n   <g id=\"patch_5\">\n    <path d=\"M 235.307416 198.515454 \nC 252.163554 186.372179 264.74062 169.189007 271.220012 149.450568 \nC 277.699405 129.712129 277.753008 108.417971 271.373073 88.647162 \nC 264.993137 68.876352 252.50274 51.630077 235.707952 39.402093 \nC 218.913164 27.174109 198.664469 20.583636 177.88976 20.583636 \nL 177.88976 118.813732 \nL 235.307416 198.515454 \nz\n\" style=\"fill:#ff7f0e;\"/>\n   </g>\n   <g id=\"matplotlib.axis_1\"/>\n   <g id=\"matplotlib.axis_2\"/>\n   <g id=\"text_1\">\n    <!-- male -->\n    <defs>\n     <path d=\"M 52 44.1875 \nQ 55.375 50.25 60.0625 53.125 \nQ 64.75 56 71.09375 56 \nQ 79.640625 56 84.28125 50.015625 \nQ 88.921875 44.046875 88.921875 33.015625 \nL 88.921875 0 \nL 79.890625 0 \nL 79.890625 32.71875 \nQ 79.890625 40.578125 77.09375 44.375 \nQ 74.3125 48.1875 68.609375 48.1875 \nQ 61.625 48.1875 57.5625 43.546875 \nQ 53.515625 38.921875 53.515625 30.90625 \nL 53.515625 0 \nL 44.484375 0 \nL 44.484375 32.71875 \nQ 44.484375 40.625 41.703125 44.40625 \nQ 38.921875 48.1875 33.109375 48.1875 \nQ 26.21875 48.1875 22.15625 43.53125 \nQ 18.109375 38.875 18.109375 30.90625 \nL 18.109375 0 \nL 9.078125 0 \nL 9.078125 54.6875 \nL 18.109375 54.6875 \nL 18.109375 46.1875 \nQ 21.1875 51.21875 25.484375 53.609375 \nQ 29.78125 56 35.6875 56 \nQ 41.65625 56 45.828125 52.96875 \nQ 50 49.953125 52 44.1875 \nz\n\" id=\"DejaVuSans-6d\"/>\n     <path d=\"M 34.28125 27.484375 \nQ 23.390625 27.484375 19.1875 25 \nQ 14.984375 22.515625 14.984375 16.5 \nQ 14.984375 11.71875 18.140625 8.90625 \nQ 21.296875 6.109375 26.703125 6.109375 \nQ 34.1875 6.109375 38.703125 11.40625 \nQ 43.21875 16.703125 43.21875 25.484375 \nL 43.21875 27.484375 \nz\nM 52.203125 31.203125 \nL 52.203125 0 \nL 43.21875 0 \nL 43.21875 8.296875 \nQ 40.140625 3.328125 35.546875 0.953125 \nQ 30.953125 -1.421875 24.3125 -1.421875 \nQ 15.921875 -1.421875 10.953125 3.296875 \nQ 6 8.015625 6 15.921875 \nQ 6 25.140625 12.171875 29.828125 \nQ 18.359375 34.515625 30.609375 34.515625 \nL 43.21875 34.515625 \nL 43.21875 35.40625 \nQ 43.21875 41.609375 39.140625 45 \nQ 35.0625 48.390625 27.6875 48.390625 \nQ 23 48.390625 18.546875 47.265625 \nQ 14.109375 46.140625 10.015625 43.890625 \nL 10.015625 52.203125 \nQ 14.9375 54.109375 19.578125 55.046875 \nQ 24.21875 56 28.609375 56 \nQ 40.484375 56 46.34375 49.84375 \nQ 52.203125 43.703125 52.203125 31.203125 \nz\n\" id=\"DejaVuSans-61\"/>\n     <path d=\"M 9.421875 75.984375 \nL 18.40625 75.984375 \nL 18.40625 0 \nL 9.421875 0 \nz\n\" id=\"DejaVuSans-6c\"/>\n     <path d=\"M 56.203125 29.59375 \nL 56.203125 25.203125 \nL 14.890625 25.203125 \nQ 15.484375 15.921875 20.484375 11.0625 \nQ 25.484375 6.203125 34.421875 6.203125 \nQ 39.59375 6.203125 44.453125 7.46875 \nQ 49.3125 8.734375 54.109375 11.28125 \nL 54.109375 2.78125 \nQ 49.265625 0.734375 44.1875 -0.34375 \nQ 39.109375 -1.421875 33.890625 -1.421875 \nQ 20.796875 -1.421875 13.15625 6.1875 \nQ 5.515625 13.8125 5.515625 26.8125 \nQ 5.515625 40.234375 12.765625 48.109375 \nQ 20.015625 56 32.328125 56 \nQ 43.359375 56 49.78125 48.890625 \nQ 56.203125 41.796875 56.203125 29.59375 \nz\nM 47.21875 32.234375 \nQ 47.125 39.59375 43.09375 43.984375 \nQ 39.0625 48.390625 32.421875 48.390625 \nQ 24.90625 48.390625 20.390625 44.140625 \nQ 15.875 39.890625 15.1875 32.171875 \nz\n\" id=\"DejaVuSans-65\"/>\n    </defs>\n    <g transform=\"translate(50.258117 154.756334)scale(0.1 -0.1)\">\n     <use xlink:href=\"#DejaVuSans-6d\"/>\n     <use x=\"97.412109\" xlink:href=\"#DejaVuSans-61\"/>\n     <use x=\"158.691406\" xlink:href=\"#DejaVuSans-6c\"/>\n     <use x=\"186.474609\" xlink:href=\"#DejaVuSans-65\"/>\n    </g>\n   </g>\n   <g id=\"text_2\">\n    <!-- 59.9% -->\n    <defs>\n     <path d=\"M 10.796875 72.90625 \nL 49.515625 72.90625 \nL 49.515625 64.59375 \nL 19.828125 64.59375 \nL 19.828125 46.734375 \nQ 21.96875 47.46875 24.109375 47.828125 \nQ 26.265625 48.1875 28.421875 48.1875 \nQ 40.625 48.1875 47.75 41.5 \nQ 54.890625 34.8125 54.890625 23.390625 \nQ 54.890625 11.625 47.5625 5.09375 \nQ 40.234375 -1.421875 26.90625 -1.421875 \nQ 22.3125 -1.421875 17.546875 -0.640625 \nQ 12.796875 0.140625 7.71875 1.703125 \nL 7.71875 11.625 \nQ 12.109375 9.234375 16.796875 8.0625 \nQ 21.484375 6.890625 26.703125 6.890625 \nQ 35.15625 6.890625 40.078125 11.328125 \nQ 45.015625 15.765625 45.015625 23.390625 \nQ 45.015625 31 40.078125 35.4375 \nQ 35.15625 39.890625 26.703125 39.890625 \nQ 22.75 39.890625 18.8125 39.015625 \nQ 14.890625 38.140625 10.796875 36.28125 \nz\n\" id=\"DejaVuSans-35\"/>\n     <path d=\"M 10.984375 1.515625 \nL 10.984375 10.5 \nQ 14.703125 8.734375 18.5 7.8125 \nQ 22.3125 6.890625 25.984375 6.890625 \nQ 35.75 6.890625 40.890625 13.453125 \nQ 46.046875 20.015625 46.78125 33.40625 \nQ 43.953125 29.203125 39.59375 26.953125 \nQ 35.25 24.703125 29.984375 24.703125 \nQ 19.046875 24.703125 12.671875 31.3125 \nQ 6.296875 37.9375 6.296875 49.421875 \nQ 6.296875 60.640625 12.9375 67.421875 \nQ 19.578125 74.21875 30.609375 74.21875 \nQ 43.265625 74.21875 49.921875 64.515625 \nQ 56.59375 54.828125 56.59375 36.375 \nQ 56.59375 19.140625 48.40625 8.859375 \nQ 40.234375 -1.421875 26.421875 -1.421875 \nQ 22.703125 -1.421875 18.890625 -0.6875 \nQ 15.09375 0.046875 10.984375 1.515625 \nz\nM 30.609375 32.421875 \nQ 37.25 32.421875 41.125 36.953125 \nQ 45.015625 41.5 45.015625 49.421875 \nQ 45.015625 57.28125 41.125 61.84375 \nQ 37.25 66.40625 30.609375 66.40625 \nQ 23.96875 66.40625 20.09375 61.84375 \nQ 16.21875 57.28125 16.21875 49.421875 \nQ 16.21875 41.5 20.09375 36.953125 \nQ 23.96875 32.421875 30.609375 32.421875 \nz\n\" id=\"DejaVuSans-39\"/>\n     <path d=\"M 10.6875 12.40625 \nL 21 12.40625 \nL 21 0 \nL 10.6875 0 \nz\n\" id=\"DejaVuSans-2e\"/>\n     <path d=\"M 72.703125 32.078125 \nQ 68.453125 32.078125 66.03125 28.46875 \nQ 63.625 24.859375 63.625 18.40625 \nQ 63.625 12.0625 66.03125 8.421875 \nQ 68.453125 4.78125 72.703125 4.78125 \nQ 76.859375 4.78125 79.265625 8.421875 \nQ 81.6875 12.0625 81.6875 18.40625 \nQ 81.6875 24.8125 79.265625 28.4375 \nQ 76.859375 32.078125 72.703125 32.078125 \nz\nM 72.703125 38.28125 \nQ 80.421875 38.28125 84.953125 32.90625 \nQ 89.5 27.546875 89.5 18.40625 \nQ 89.5 9.28125 84.9375 3.921875 \nQ 80.375 -1.421875 72.703125 -1.421875 \nQ 64.890625 -1.421875 60.34375 3.921875 \nQ 55.8125 9.28125 55.8125 18.40625 \nQ 55.8125 27.59375 60.375 32.9375 \nQ 64.9375 38.28125 72.703125 38.28125 \nz\nM 22.3125 68.015625 \nQ 18.109375 68.015625 15.6875 64.375 \nQ 13.28125 60.75 13.28125 54.390625 \nQ 13.28125 47.953125 15.671875 44.328125 \nQ 18.0625 40.71875 22.3125 40.71875 \nQ 26.5625 40.71875 28.96875 44.328125 \nQ 31.390625 47.953125 31.390625 54.390625 \nQ 31.390625 60.6875 28.953125 64.34375 \nQ 26.515625 68.015625 22.3125 68.015625 \nz\nM 66.40625 74.21875 \nL 74.21875 74.21875 \nL 28.609375 -1.421875 \nL 20.796875 -1.421875 \nz\nM 22.3125 74.21875 \nQ 30.03125 74.21875 34.609375 68.875 \nQ 39.203125 63.53125 39.203125 54.390625 \nQ 39.203125 45.171875 34.640625 39.84375 \nQ 30.078125 34.515625 22.3125 34.515625 \nQ 14.546875 34.515625 10.03125 39.859375 \nQ 5.515625 45.21875 5.515625 54.390625 \nQ 5.515625 63.484375 10.046875 68.84375 \nQ 14.59375 74.21875 22.3125 74.21875 \nz\n\" id=\"DejaVuSans-25\"/>\n    </defs>\n    <g transform=\"translate(105.916179 139.673049)scale(0.1 -0.1)\">\n     <use xlink:href=\"#DejaVuSans-35\"/>\n     <use x=\"63.623047\" xlink:href=\"#DejaVuSans-39\"/>\n     <use x=\"127.246094\" xlink:href=\"#DejaVuSans-2e\"/>\n     <use x=\"159.033203\" xlink:href=\"#DejaVuSans-39\"/>\n     <use x=\"222.65625\" xlink:href=\"#DejaVuSans-25\"/>\n    </g>\n   </g>\n   <g id=\"text_3\">\n    <!-- female -->\n    <defs>\n     <path d=\"M 37.109375 75.984375 \nL 37.109375 68.5 \nL 28.515625 68.5 \nQ 23.6875 68.5 21.796875 66.546875 \nQ 19.921875 64.59375 19.921875 59.515625 \nL 19.921875 54.6875 \nL 34.71875 54.6875 \nL 34.71875 47.703125 \nL 19.921875 47.703125 \nL 19.921875 0 \nL 10.890625 0 \nL 10.890625 47.703125 \nL 2.296875 47.703125 \nL 2.296875 54.6875 \nL 10.890625 54.6875 \nL 10.890625 58.5 \nQ 10.890625 67.625 15.140625 71.796875 \nQ 19.390625 75.984375 28.609375 75.984375 \nz\n\" id=\"DejaVuSans-66\"/>\n    </defs>\n    <g transform=\"translate(280.721404 88.38988)scale(0.1 -0.1)\">\n     <use xlink:href=\"#DejaVuSans-66\"/>\n     <use x=\"35.205078\" xlink:href=\"#DejaVuSans-65\"/>\n     <use x=\"96.728516\" xlink:href=\"#DejaVuSans-6d\"/>\n     <use x=\"194.140625\" xlink:href=\"#DejaVuSans-61\"/>\n     <use x=\"255.419922\" xlink:href=\"#DejaVuSans-6c\"/>\n     <use x=\"283.203125\" xlink:href=\"#DejaVuSans-65\"/>\n    </g>\n   </g>\n   <g id=\"text_4\">\n    <!-- 40.1% -->\n    <defs>\n     <path d=\"M 37.796875 64.3125 \nL 12.890625 25.390625 \nL 37.796875 25.390625 \nz\nM 35.203125 72.90625 \nL 47.609375 72.90625 \nL 47.609375 25.390625 \nL 58.015625 25.390625 \nL 58.015625 17.1875 \nL 47.609375 17.1875 \nL 47.609375 0 \nL 37.796875 0 \nL 37.796875 17.1875 \nL 4.890625 17.1875 \nL 4.890625 26.703125 \nz\n\" id=\"DejaVuSans-34\"/>\n     <path d=\"M 31.78125 66.40625 \nQ 24.171875 66.40625 20.328125 58.90625 \nQ 16.5 51.421875 16.5 36.375 \nQ 16.5 21.390625 20.328125 13.890625 \nQ 24.171875 6.390625 31.78125 6.390625 \nQ 39.453125 6.390625 43.28125 13.890625 \nQ 47.125 21.390625 47.125 36.375 \nQ 47.125 51.421875 43.28125 58.90625 \nQ 39.453125 66.40625 31.78125 66.40625 \nz\nM 31.78125 74.21875 \nQ 44.046875 74.21875 50.515625 64.515625 \nQ 56.984375 54.828125 56.984375 36.375 \nQ 56.984375 17.96875 50.515625 8.265625 \nQ 44.046875 -1.421875 31.78125 -1.421875 \nQ 19.53125 -1.421875 13.0625 8.265625 \nQ 6.59375 17.96875 6.59375 36.375 \nQ 6.59375 54.828125 13.0625 64.515625 \nQ 19.53125 74.21875 31.78125 74.21875 \nz\n\" id=\"DejaVuSans-30\"/>\n     <path d=\"M 12.40625 8.296875 \nL 28.515625 8.296875 \nL 28.515625 63.921875 \nL 10.984375 60.40625 \nL 10.984375 69.390625 \nL 28.421875 72.90625 \nL 38.28125 72.90625 \nL 38.28125 8.296875 \nL 54.390625 8.296875 \nL 54.390625 0 \nL 12.40625 0 \nz\n\" id=\"DejaVuSans-31\"/>\n    </defs>\n    <g transform=\"translate(218.096154 103.473165)scale(0.1 -0.1)\">\n     <use xlink:href=\"#DejaVuSans-34\"/>\n     <use x=\"63.623047\" xlink:href=\"#DejaVuSans-30\"/>\n     <use x=\"127.246094\" xlink:href=\"#DejaVuSans-2e\"/>\n     <use x=\"159.033203\" xlink:href=\"#DejaVuSans-31\"/>\n     <use x=\"222.65625\" xlink:href=\"#DejaVuSans-25\"/>\n    </g>\n   </g>\n  </g>\n </g>\n</svg>\n",
      "image/png": "[encoded data removed]"
     },
     "metadata": {}
    },
    {
     "output_type": "stream",
     "name": "stdout",
     "text": [
      "Percentage of individuals who recovered by gender\n"
     ]
    },
    {
     "output_type": "display_data",
     "data": {
      "text/plain": "<Figure size 432x288 with 1 Axes>",
      "image/svg+xml": "<?xml version=\"1.0\" encoding=\"utf-8\" standalone=\"no\"?>\n<!DOCTYPE svg PUBLIC \"-//W3C//DTD SVG 1.1//EN\"\n  \"http://www.w3.org/Graphics/SVG/1.1/DTD/svg11.dtd\">\n<!-- Created with matplotlib (http://matplotlib.org/) -->\n<svg height=\"238.84pt\" version=\"1.1\" viewBox=\"0 0 356.2 238.84\" width=\"356.2pt\" xmlns=\"http://www.w3.org/2000/svg\" xmlns:xlink=\"http://www.w3.org/1999/xlink\">\n <defs>\n  <style type=\"text/css\">\n*{stroke-linecap:butt;stroke-linejoin:round;}\n  </style>\n </defs>\n <g id=\"figure_1\">\n  <g id=\"patch_1\">\n   <path d=\"M 0 238.84 \nL 356.2 238.84 \nL 356.2 0 \nL 0 0 \nz\n\" style=\"fill:none;\"/>\n  </g>\n  <g id=\"axes_1\">\n   <g id=\"patch_2\">\n    <path d=\"M 176.088398 22.558981 \nC 163.072316 22.558981 150.183702 25.131976 138.165329 30.129685 \nC 126.146956 35.127394 115.234218 42.451931 106.056019 51.68118 \nC 96.877819 60.910429 89.613924 71.863625 84.682953 83.909534 \nC 79.751982 95.955443 77.250514 108.85813 77.322709 121.874012 \nC 77.394904 134.889894 80.039348 147.764038 85.103642 159.754506 \nC 90.167935 171.744974 97.552888 182.616917 106.832903 191.743785 \nC 116.112918 200.870652 127.106236 208.073682 139.179309 212.937763 \nC 151.252383 217.801845 164.168746 220.231708 177.184027 220.08732 \nL 176.088398 121.326189 \nL 176.088398 22.558981 \nz\n\" style=\"fill:#092436;opacity:0.5;stroke:#092436;stroke-linejoin:miter;\"/>\n   </g>\n   <g id=\"patch_3\">\n    <path d=\"M 177.184027 220.08732 \nC 203.272343 219.797903 228.21176 209.182894 246.505994 190.581684 \nC 264.800228 171.980474 274.998798 146.867886 274.854087 120.778366 \nC 274.709376 94.688846 264.232859 69.690936 245.733407 51.293809 \nC 227.233954 32.896683 202.17832 22.558981 176.088398 22.558981 \nL 176.088398 121.326189 \nL 177.184027 220.08732 \nz\n\" style=\"fill:#4c2604;opacity:0.5;stroke:#4c2604;stroke-linejoin:miter;\"/>\n   </g>\n   <g id=\"patch_4\">\n    <path d=\"M 178.063742 20.583636 \nC 165.04766 20.583636 152.159046 23.156632 140.140673 28.154341 \nC 128.1223 33.15205 117.209562 40.476586 108.031363 49.705836 \nC 98.853163 58.935085 91.589268 69.888281 86.658297 81.93419 \nC 81.727326 93.980099 79.225858 106.882786 79.298053 119.898668 \nC 79.370248 132.914549 82.014693 145.788694 87.078986 157.779162 \nC 92.14328 169.76963 99.528232 180.641573 108.808247 189.76844 \nC 118.088262 198.895308 129.08158 206.098338 141.154653 210.962419 \nC 153.227727 215.8265 166.14409 218.256364 179.159371 218.111976 \nL 178.063742 119.350845 \nL 178.063742 20.583636 \nz\n\" style=\"fill:#1f77b4;\"/>\n   </g>\n   <g id=\"patch_5\">\n    <path d=\"M 179.159371 218.111976 \nC 205.247688 217.822559 230.187104 207.207549 248.481338 188.60634 \nC 266.775572 170.00513 276.974142 144.892542 276.829431 118.803022 \nC 276.684721 92.713501 266.208203 67.715591 247.708751 49.318465 \nC 229.209298 30.921339 204.153664 20.583636 178.063742 20.583636 \nL 178.063742 119.350845 \nL 179.159371 218.111976 \nz\n\" style=\"fill:#ff7f0e;\"/>\n   </g>\n   <g id=\"matplotlib.axis_1\"/>\n   <g id=\"matplotlib.axis_2\"/>\n   <g id=\"text_1\">\n    <!-- male -->\n    <defs>\n     <path d=\"M 52 44.1875 \nQ 55.375 50.25 60.0625 53.125 \nQ 64.75 56 71.09375 56 \nQ 79.640625 56 84.28125 50.015625 \nQ 88.921875 44.046875 88.921875 33.015625 \nL 88.921875 0 \nL 79.890625 0 \nL 79.890625 32.71875 \nQ 79.890625 40.578125 77.09375 44.375 \nQ 74.3125 48.1875 68.609375 48.1875 \nQ 61.625 48.1875 57.5625 43.546875 \nQ 53.515625 38.921875 53.515625 30.90625 \nL 53.515625 0 \nL 44.484375 0 \nL 44.484375 32.71875 \nQ 44.484375 40.625 41.703125 44.40625 \nQ 38.921875 48.1875 33.109375 48.1875 \nQ 26.21875 48.1875 22.15625 43.53125 \nQ 18.109375 38.875 18.109375 30.90625 \nL 18.109375 0 \nL 9.078125 0 \nL 9.078125 54.6875 \nL 18.109375 54.6875 \nL 18.109375 46.1875 \nQ 21.1875 51.21875 25.484375 53.609375 \nQ 29.78125 56 35.6875 56 \nQ 41.65625 56 45.828125 52.96875 \nQ 50 49.953125 52 44.1875 \nz\n\" id=\"DejaVuSans-6d\"/>\n     <path d=\"M 34.28125 27.484375 \nQ 23.390625 27.484375 19.1875 25 \nQ 14.984375 22.515625 14.984375 16.5 \nQ 14.984375 11.71875 18.140625 8.90625 \nQ 21.296875 6.109375 26.703125 6.109375 \nQ 34.1875 6.109375 38.703125 11.40625 \nQ 43.21875 16.703125 43.21875 25.484375 \nL 43.21875 27.484375 \nz\nM 52.203125 31.203125 \nL 52.203125 0 \nL 43.21875 0 \nL 43.21875 8.296875 \nQ 40.140625 3.328125 35.546875 0.953125 \nQ 30.953125 -1.421875 24.3125 -1.421875 \nQ 15.921875 -1.421875 10.953125 3.296875 \nQ 6 8.015625 6 15.921875 \nQ 6 25.140625 12.171875 29.828125 \nQ 18.359375 34.515625 30.609375 34.515625 \nL 43.21875 34.515625 \nL 43.21875 35.40625 \nQ 43.21875 41.609375 39.140625 45 \nQ 35.0625 48.390625 27.6875 48.390625 \nQ 23 48.390625 18.546875 47.265625 \nQ 14.109375 46.140625 10.015625 43.890625 \nL 10.015625 52.203125 \nQ 14.9375 54.109375 19.578125 55.046875 \nQ 24.21875 56 28.609375 56 \nQ 40.484375 56 46.34375 49.84375 \nQ 52.203125 43.703125 52.203125 31.203125 \nz\n\" id=\"DejaVuSans-61\"/>\n     <path d=\"M 9.421875 75.984375 \nL 18.40625 75.984375 \nL 18.40625 0 \nL 9.421875 0 \nz\n\" id=\"DejaVuSans-6c\"/>\n     <path d=\"M 56.203125 29.59375 \nL 56.203125 25.203125 \nL 14.890625 25.203125 \nQ 15.484375 15.921875 20.484375 11.0625 \nQ 25.484375 6.203125 34.421875 6.203125 \nQ 39.59375 6.203125 44.453125 7.46875 \nQ 49.3125 8.734375 54.109375 11.28125 \nL 54.109375 2.78125 \nQ 49.265625 0.734375 44.1875 -0.34375 \nQ 39.109375 -1.421875 33.890625 -1.421875 \nQ 20.796875 -1.421875 13.15625 6.1875 \nQ 5.515625 13.8125 5.515625 26.8125 \nQ 5.515625 40.234375 12.765625 48.109375 \nQ 20.015625 56 32.328125 56 \nQ 43.359375 56 49.78125 48.890625 \nQ 56.203125 41.796875 56.203125 29.59375 \nz\nM 47.21875 32.234375 \nQ 47.125 39.59375 43.09375 43.984375 \nQ 39.0625 48.390625 32.421875 48.390625 \nQ 24.90625 48.390625 20.390625 44.140625 \nQ 15.875 39.890625 15.1875 32.171875 \nz\n\" id=\"DejaVuSans-65\"/>\n    </defs>\n    <g transform=\"translate(44.621484 122.712825)scale(0.1 -0.1)\">\n     <use xlink:href=\"#DejaVuSans-6d\"/>\n     <use x=\"97.412109\" xlink:href=\"#DejaVuSans-61\"/>\n     <use x=\"158.691406\" xlink:href=\"#DejaVuSans-6c\"/>\n     <use x=\"186.474609\" xlink:href=\"#DejaVuSans-65\"/>\n    </g>\n   </g>\n   <g id=\"text_2\">\n    <!-- 50.2% -->\n    <defs>\n     <path d=\"M 10.796875 72.90625 \nL 49.515625 72.90625 \nL 49.515625 64.59375 \nL 19.828125 64.59375 \nL 19.828125 46.734375 \nQ 21.96875 47.46875 24.109375 47.828125 \nQ 26.265625 48.1875 28.421875 48.1875 \nQ 40.625 48.1875 47.75 41.5 \nQ 54.890625 34.8125 54.890625 23.390625 \nQ 54.890625 11.625 47.5625 5.09375 \nQ 40.234375 -1.421875 26.90625 -1.421875 \nQ 22.3125 -1.421875 17.546875 -0.640625 \nQ 12.796875 0.140625 7.71875 1.703125 \nL 7.71875 11.625 \nQ 12.109375 9.234375 16.796875 8.0625 \nQ 21.484375 6.890625 26.703125 6.890625 \nQ 35.15625 6.890625 40.078125 11.328125 \nQ 45.015625 15.765625 45.015625 23.390625 \nQ 45.015625 31 40.078125 35.4375 \nQ 35.15625 39.890625 26.703125 39.890625 \nQ 22.75 39.890625 18.8125 39.015625 \nQ 14.890625 38.140625 10.796875 36.28125 \nz\n\" id=\"DejaVuSans-35\"/>\n     <path d=\"M 31.78125 66.40625 \nQ 24.171875 66.40625 20.328125 58.90625 \nQ 16.5 51.421875 16.5 36.375 \nQ 16.5 21.390625 20.328125 13.890625 \nQ 24.171875 6.390625 31.78125 6.390625 \nQ 39.453125 6.390625 43.28125 13.890625 \nQ 47.125 21.390625 47.125 36.375 \nQ 47.125 51.421875 43.28125 58.90625 \nQ 39.453125 66.40625 31.78125 66.40625 \nz\nM 31.78125 74.21875 \nQ 44.046875 74.21875 50.515625 64.515625 \nQ 56.984375 54.828125 56.984375 36.375 \nQ 56.984375 17.96875 50.515625 8.265625 \nQ 44.046875 -1.421875 31.78125 -1.421875 \nQ 19.53125 -1.421875 13.0625 8.265625 \nQ 6.59375 17.96875 6.59375 36.375 \nQ 6.59375 54.828125 13.0625 64.515625 \nQ 19.53125 74.21875 31.78125 74.21875 \nz\n\" id=\"DejaVuSans-30\"/>\n     <path d=\"M 10.6875 12.40625 \nL 21 12.40625 \nL 21 0 \nL 10.6875 0 \nz\n\" id=\"DejaVuSans-2e\"/>\n     <path d=\"M 19.1875 8.296875 \nL 53.609375 8.296875 \nL 53.609375 0 \nL 7.328125 0 \nL 7.328125 8.296875 \nQ 12.9375 14.109375 22.625 23.890625 \nQ 32.328125 33.6875 34.8125 36.53125 \nQ 39.546875 41.84375 41.421875 45.53125 \nQ 43.3125 49.21875 43.3125 52.78125 \nQ 43.3125 58.59375 39.234375 62.25 \nQ 35.15625 65.921875 28.609375 65.921875 \nQ 23.96875 65.921875 18.8125 64.3125 \nQ 13.671875 62.703125 7.8125 59.421875 \nL 7.8125 69.390625 \nQ 13.765625 71.78125 18.9375 73 \nQ 24.125 74.21875 28.421875 74.21875 \nQ 39.75 74.21875 46.484375 68.546875 \nQ 53.21875 62.890625 53.21875 53.421875 \nQ 53.21875 48.921875 51.53125 44.890625 \nQ 49.859375 40.875 45.40625 35.40625 \nQ 44.1875 33.984375 37.640625 27.21875 \nQ 31.109375 20.453125 19.1875 8.296875 \nz\n\" id=\"DejaVuSans-32\"/>\n     <path d=\"M 72.703125 32.078125 \nQ 68.453125 32.078125 66.03125 28.46875 \nQ 63.625 24.859375 63.625 18.40625 \nQ 63.625 12.0625 66.03125 8.421875 \nQ 68.453125 4.78125 72.703125 4.78125 \nQ 76.859375 4.78125 79.265625 8.421875 \nQ 81.6875 12.0625 81.6875 18.40625 \nQ 81.6875 24.8125 79.265625 28.4375 \nQ 76.859375 32.078125 72.703125 32.078125 \nz\nM 72.703125 38.28125 \nQ 80.421875 38.28125 84.953125 32.90625 \nQ 89.5 27.546875 89.5 18.40625 \nQ 89.5 9.28125 84.9375 3.921875 \nQ 80.375 -1.421875 72.703125 -1.421875 \nQ 64.890625 -1.421875 60.34375 3.921875 \nQ 55.8125 9.28125 55.8125 18.40625 \nQ 55.8125 27.59375 60.375 32.9375 \nQ 64.9375 38.28125 72.703125 38.28125 \nz\nM 22.3125 68.015625 \nQ 18.109375 68.015625 15.6875 64.375 \nQ 13.28125 60.75 13.28125 54.390625 \nQ 13.28125 47.953125 15.671875 44.328125 \nQ 18.0625 40.71875 22.3125 40.71875 \nQ 26.5625 40.71875 28.96875 44.328125 \nQ 31.390625 47.953125 31.390625 54.390625 \nQ 31.390625 60.6875 28.953125 64.34375 \nQ 26.515625 68.015625 22.3125 68.015625 \nz\nM 66.40625 74.21875 \nL 74.21875 74.21875 \nL 28.609375 -1.421875 \nL 20.796875 -1.421875 \nz\nM 22.3125 74.21875 \nQ 30.03125 74.21875 34.609375 68.875 \nQ 39.203125 63.53125 39.203125 54.390625 \nQ 39.203125 45.171875 34.640625 39.84375 \nQ 30.078125 34.515625 22.3125 34.515625 \nQ 14.546875 34.515625 10.03125 39.859375 \nQ 5.515625 45.21875 5.515625 54.390625 \nQ 5.515625 63.484375 10.046875 68.84375 \nQ 14.59375 74.21875 22.3125 74.21875 \nz\n\" id=\"DejaVuSans-25\"/>\n    </defs>\n    <g transform=\"translate(102.920735 122.438913)scale(0.1 -0.1)\">\n     <use xlink:href=\"#DejaVuSans-35\"/>\n     <use x=\"63.623047\" xlink:href=\"#DejaVuSans-30\"/>\n     <use x=\"127.246094\" xlink:href=\"#DejaVuSans-2e\"/>\n     <use x=\"159.033203\" xlink:href=\"#DejaVuSans-32\"/>\n     <use x=\"222.65625\" xlink:href=\"#DejaVuSans-25\"/>\n    </g>\n   </g>\n   <g id=\"text_3\">\n    <!-- female -->\n    <defs>\n     <path d=\"M 37.109375 75.984375 \nL 37.109375 68.5 \nL 28.515625 68.5 \nQ 23.6875 68.5 21.796875 66.546875 \nQ 19.921875 64.59375 19.921875 59.515625 \nL 19.921875 54.6875 \nL 34.71875 54.6875 \nL 34.71875 47.703125 \nL 19.921875 47.703125 \nL 19.921875 0 \nL 10.890625 0 \nL 10.890625 47.703125 \nL 2.296875 47.703125 \nL 2.296875 54.6875 \nL 10.890625 54.6875 \nL 10.890625 58.5 \nQ 10.890625 67.625 15.140625 71.796875 \nQ 19.390625 75.984375 28.609375 75.984375 \nz\n\" id=\"DejaVuSans-66\"/>\n    </defs>\n    <g transform=\"translate(286.706 121.507614)scale(0.1 -0.1)\">\n     <use xlink:href=\"#DejaVuSans-66\"/>\n     <use x=\"35.205078\" xlink:href=\"#DejaVuSans-65\"/>\n     <use x=\"96.728516\" xlink:href=\"#DejaVuSans-6d\"/>\n     <use x=\"194.140625\" xlink:href=\"#DejaVuSans-61\"/>\n     <use x=\"255.419922\" xlink:href=\"#DejaVuSans-6c\"/>\n     <use x=\"283.203125\" xlink:href=\"#DejaVuSans-65\"/>\n    </g>\n   </g>\n   <g id=\"text_4\">\n    <!-- 49.8% -->\n    <defs>\n     <path d=\"M 37.796875 64.3125 \nL 12.890625 25.390625 \nL 37.796875 25.390625 \nz\nM 35.203125 72.90625 \nL 47.609375 72.90625 \nL 47.609375 25.390625 \nL 58.015625 25.390625 \nL 58.015625 17.1875 \nL 47.609375 17.1875 \nL 47.609375 0 \nL 37.796875 0 \nL 37.796875 17.1875 \nL 4.890625 17.1875 \nL 4.890625 26.703125 \nz\n\" id=\"DejaVuSans-34\"/>\n     <path d=\"M 10.984375 1.515625 \nL 10.984375 10.5 \nQ 14.703125 8.734375 18.5 7.8125 \nQ 22.3125 6.890625 25.984375 6.890625 \nQ 35.75 6.890625 40.890625 13.453125 \nQ 46.046875 20.015625 46.78125 33.40625 \nQ 43.953125 29.203125 39.59375 26.953125 \nQ 35.25 24.703125 29.984375 24.703125 \nQ 19.046875 24.703125 12.671875 31.3125 \nQ 6.296875 37.9375 6.296875 49.421875 \nQ 6.296875 60.640625 12.9375 67.421875 \nQ 19.578125 74.21875 30.609375 74.21875 \nQ 43.265625 74.21875 49.921875 64.515625 \nQ 56.59375 54.828125 56.59375 36.375 \nQ 56.59375 19.140625 48.40625 8.859375 \nQ 40.234375 -1.421875 26.421875 -1.421875 \nQ 22.703125 -1.421875 18.890625 -0.6875 \nQ 15.09375 0.046875 10.984375 1.515625 \nz\nM 30.609375 32.421875 \nQ 37.25 32.421875 41.125 36.953125 \nQ 45.015625 41.5 45.015625 49.421875 \nQ 45.015625 57.28125 41.125 61.84375 \nQ 37.25 66.40625 30.609375 66.40625 \nQ 23.96875 66.40625 20.09375 61.84375 \nQ 16.21875 57.28125 16.21875 49.421875 \nQ 16.21875 41.5 20.09375 36.953125 \nQ 23.96875 32.421875 30.609375 32.421875 \nz\n\" id=\"DejaVuSans-39\"/>\n     <path d=\"M 31.78125 34.625 \nQ 24.75 34.625 20.71875 30.859375 \nQ 16.703125 27.09375 16.703125 20.515625 \nQ 16.703125 13.921875 20.71875 10.15625 \nQ 24.75 6.390625 31.78125 6.390625 \nQ 38.8125 6.390625 42.859375 10.171875 \nQ 46.921875 13.96875 46.921875 20.515625 \nQ 46.921875 27.09375 42.890625 30.859375 \nQ 38.875 34.625 31.78125 34.625 \nz\nM 21.921875 38.8125 \nQ 15.578125 40.375 12.03125 44.71875 \nQ 8.5 49.078125 8.5 55.328125 \nQ 8.5 64.0625 14.71875 69.140625 \nQ 20.953125 74.21875 31.78125 74.21875 \nQ 42.671875 74.21875 48.875 69.140625 \nQ 55.078125 64.0625 55.078125 55.328125 \nQ 55.078125 49.078125 51.53125 44.71875 \nQ 48 40.375 41.703125 38.8125 \nQ 48.828125 37.15625 52.796875 32.3125 \nQ 56.78125 27.484375 56.78125 20.515625 \nQ 56.78125 9.90625 50.3125 4.234375 \nQ 43.84375 -1.421875 31.78125 -1.421875 \nQ 19.734375 -1.421875 13.25 4.234375 \nQ 6.78125 9.90625 6.78125 20.515625 \nQ 6.78125 27.484375 10.78125 32.3125 \nQ 14.796875 37.15625 21.921875 38.8125 \nz\nM 18.3125 54.390625 \nQ 18.3125 48.734375 21.84375 45.5625 \nQ 25.390625 42.390625 31.78125 42.390625 \nQ 38.140625 42.390625 41.71875 45.5625 \nQ 45.3125 48.734375 45.3125 54.390625 \nQ 45.3125 60.0625 41.71875 63.234375 \nQ 38.140625 66.40625 31.78125 66.40625 \nQ 25.390625 66.40625 21.84375 63.234375 \nQ 18.3125 60.0625 18.3125 54.390625 \nz\n\" id=\"DejaVuSans-38\"/>\n    </defs>\n    <g transform=\"translate(221.439562 121.781526)scale(0.1 -0.1)\">\n     <use xlink:href=\"#DejaVuSans-34\"/>\n     <use x=\"63.623047\" xlink:href=\"#DejaVuSans-39\"/>\n     <use x=\"127.246094\" xlink:href=\"#DejaVuSans-2e\"/>\n     <use x=\"159.033203\" xlink:href=\"#DejaVuSans-38\"/>\n     <use x=\"222.65625\" xlink:href=\"#DejaVuSans-25\"/>\n    </g>\n   </g>\n  </g>\n </g>\n</svg>\n",
      "image/png": "[encoded data removed]"
     },
     "metadata": {}
    }
   ],
   "source": [
    "values = dataset['sex'].value_counts()\n",
    "labels = 'male', 'female'\n",
    "\n",
    "print('Percentage of total dataset by gender')\n",
    "pie_chart(values, labels)\n",
    "\n",
    "print('Percentage of individuals who died by gender')\n",
    "values = dataset.loc[dataset['outcome'] == 0, 'sex'].value_counts()\n",
    "pie_chart(values, labels)\n",
    "\n",
    "print('Percentage of individuals who recovered by gender')\n",
    "values = dataset.loc[dataset['outcome'] == 1, 'sex'].value_counts()\n",
    "pie_chart(values, labels)\n"
   ]
  },
  {
   "source": [
    "## 4.1 Split the dataset into features/labels and test/train"
   ],
   "cell_type": "markdown",
   "metadata": {}
  },
  {
   "cell_type": "code",
   "execution_count": 9,
   "metadata": {},
   "outputs": [],
   "source": [
    "# Split the data into features and labels\n",
    "features = dataset.drop(['outcome'], axis=1)\n",
    "labels = dataset['outcome']\n",
    "\n",
    "# print('features\\n', features.value_counts())\n",
    "# print('labels\\n', labels.value_counts())\n",
    "\n",
    "# Split the data into training and testing\n",
    "from sklearn.model_selection import train_test_split\n",
    "X_train, X_test, y_train, y_test = train_test_split(features, labels, test_size=0.1, random_state=0) # This also shuffles the data"
   ]
  },
  {
   "source": [
    "## 4.2 Fit the models\n",
    "In this section we fit 6 different models for comparison. From this 6 I will choose the best performing 3."
   ],
   "cell_type": "markdown",
   "metadata": {}
  },
  {
   "cell_type": "code",
   "execution_count": 10,
   "metadata": {},
   "outputs": [
    {
     "output_type": "stream",
     "name": "stdout",
     "text": [
      "Trained a selection of models on the training data\n"
     ]
    }
   ],
   "source": [
    "# Import and fit a Support Vector Machine\n",
    "from sklearn import svm\n",
    "svm_classifier = svm.SVC(gamma='auto', class_weight={0: 2832/624, 1:1})\n",
    "svm_classifier.fit(X_train, y_train)\n",
    "\n",
    "# Immport and fit a logistic regression model\n",
    "from sklearn import linear_model\n",
    "# LR_classifier = linear_model.LogisticRegression(solver='lbfgs', multi_class='multinomial', max_iter=1000) # MULTINOMIAL There are five solvers that can be used to obtain the weights \n",
    "LR_classifier = linear_model.LogisticRegression(solver='lbfgs', max_iter=1000, class_weight={0: 2832/624, 1:1})\n",
    "LR_classifier.fit(X_train, y_train)\n",
    "\n",
    "# Import and fit a decision tree\n",
    "from sklearn import tree\n",
    "tree_classifier = tree.DecisionTreeClassifier(class_weight={0: 2832/624, 1:1})\n",
    "tree_classifier.fit(X_train, y_train)\n",
    "\n",
    "# Import a random forest\n",
    "from sklearn.ensemble import RandomForestClassifier\n",
    "forest_classifier = RandomForestClassifier(class_weight={0: 2832/624, 1:1}, n_estimators=100)\n",
    "forest_classifier.fit(X_train, y_train)\n",
    "\n",
    "# Import and fit a naive bayes model\n",
    "from sklearn.naive_bayes import GaussianNB\n",
    "# nb_classifier = GaussianNB(priors=[624/3456, 2832/3456])\n",
    "nb_classifier = GaussianNB(priors=[2832/3456, 624/3456])\n",
    "nb_classifier.fit(X_train, y_train)\n",
    "\n",
    "# Import and fit a k nearest neighbours model\n",
    "from sklearn.neighbors import KNeighborsClassifier\n",
    "knn_classifier = KNeighborsClassifier()\n",
    "knn_classifier.fit(X_train, y_train)\n",
    "\n",
    "print('Trained a selection of models on the training data')"
   ]
  },
  {
   "source": [
    "# 5 Model Evaluation\n",
    "\n",
    "In this section we look at how the models performed on the test set. \n",
    "This allows us to select the top 3 models before attempting to improve their performance through hyperparameter tuning.\n",
    "\n",
    "The evaluation metrics of interest at this step are the accuracy, balanced_accuracy and f1_score"
   ],
   "cell_type": "markdown",
   "metadata": {}
  },
  {
   "source": [
    "## 5.1 Use the models to make some predictions"
   ],
   "cell_type": "markdown",
   "metadata": {}
  },
  {
   "cell_type": "code",
   "execution_count": 11,
   "metadata": {},
   "outputs": [],
   "source": [
    "# Make predictions on the test dataset with each model\n",
    "svm_predictions = svm_classifier.predict(X_test)\n",
    "LR_predictions = LR_classifier.predict(X_test)\n",
    "tree_predictions = tree_classifier.predict(X_test)\n",
    "forest_predictions = forest_classifier.predict(X_test)\n",
    "nb_predictions = nb_classifier.predict(X_test)\n",
    "knn_predictions = knn_classifier.predict(X_test)"
   ]
  },
  {
   "source": [
    "## 5.2 Measure the accuracy of the predictions\n",
    "\n",
    "The accuracy is immediately easy to interpret and is therefore worth examining before looking at other metrics"
   ],
   "cell_type": "markdown",
   "metadata": {}
  },
  {
   "cell_type": "code",
   "execution_count": 12,
   "metadata": {},
   "outputs": [
    {
     "output_type": "stream",
     "name": "stdout",
     "text": [
      "SVM accuracy: 0.7052023121387283\nLR accuracy: 0.7225433526011561\nTree accuracy: 0.7254335260115607\nForest accuracy: 0.7630057803468208\nNaive Bayes accuracy: 0.2543352601156069\nkNN accuracy: 0.815028901734104\n"
     ]
    }
   ],
   "source": [
    "# Measure the accuracy of each set of predictions\n",
    "from sklearn import metrics\n",
    "svm_accuracy = metrics.accuracy_score(y_test, svm_predictions)\n",
    "LR_accuracy = metrics.accuracy_score(y_test, LR_predictions)\n",
    "tree_accuracy = metrics.accuracy_score(y_test, tree_predictions)\n",
    "forest_accuracy = metrics.accuracy_score(y_test, forest_predictions)\n",
    "nb_accuracy = metrics.accuracy_score(y_test, nb_predictions)\n",
    "knn_accuracy = metrics.accuracy_score(y_test, knn_predictions)\n",
    "\n",
    "print(f'SVM accuracy: {svm_accuracy}\\nLR accuracy: {LR_accuracy}\\nTree accuracy: {tree_accuracy}\\nForest accuracy: {forest_accuracy}\\nNaive Bayes accuracy: {nb_accuracy}\\nkNN accuracy: {knn_accuracy}')"
   ]
  },
  {
   "source": [
    "## 5.3 View more detailed evaluations\n",
    "This function returns the accuracy, balanced accuracy and f1 scores for the models.\n",
    "It also shows the confusion matrix and an analysis of the precision and recall."
   ],
   "cell_type": "markdown",
   "metadata": {}
  },
  {
   "cell_type": "code",
   "execution_count": 13,
   "metadata": {},
   "outputs": [],
   "source": [
    "def custom_score(y_test, predictions):\n",
    "    accuracy = metrics.accuracy_score(y_test, predictions)\n",
    "    balanced_accuracy = metrics.balanced_accuracy_score(y_test, predictions)\n",
    "    f1score = metrics.f1_score(y_test, predictions)\n",
    "    custom_score = round((3*accuracy + 3*balanced_accuracy + 1*f1score)/7, 4)\n",
    "    return custom_score"
   ]
  },
  {
   "cell_type": "code",
   "execution_count": 14,
   "metadata": {},
   "outputs": [],
   "source": [
    "def custom_scorer(model, X_test, y_test):\n",
    "    predictions = model.predict(X_test)\n",
    "    return custom_score(y_test, predictions)"
   ]
  },
  {
   "cell_type": "code",
   "execution_count": 15,
   "metadata": {},
   "outputs": [
    {
     "output_type": "stream",
     "name": "stdout",
     "text": [
      "\u001b[95mNAIVE BAYES\u001b[0m\n",
      "                   Naive Bayes\n",
      "Accuracy              0.254335\n",
      "Balanced Accuracy     0.532609\n",
      "f1 Score              0.122449\n",
      "\n",
      "Custom score 0.3548\n",
      "\n",
      "Confusion matrix for Naive Bayes:\n",
      "[[ 70   0]\n",
      " [258  18]]\n",
      "\n",
      "Full classification report for Naive Bayes:\n",
      "              precision    recall  f1-score   support\n",
      "\n",
      "        died       0.21      1.00      0.35        70\n",
      "   recovered       1.00      0.07      0.12       276\n",
      "\n",
      "   micro avg       0.25      0.25      0.25       346\n",
      "   macro avg       0.61      0.53      0.24       346\n",
      "weighted avg       0.84      0.25      0.17       346\n",
      "\n",
      "\n",
      "\n",
      "\u001b[95mDECISION TREE\u001b[0m\n",
      "                   Decision tree\n",
      "Accuracy                0.725434\n",
      "Balanced Accuracy       0.662629\n",
      "f1 Score                0.816956\n",
      "\n",
      "Custom score 0.7116\n",
      "\n",
      "Confusion matrix for Decision tree:\n",
      "[[ 39  31]\n",
      " [ 64 212]]\n",
      "\n",
      "Full classification report for Decision tree:\n",
      "              precision    recall  f1-score   support\n",
      "\n",
      "        died       0.38      0.56      0.45        70\n",
      "   recovered       0.87      0.77      0.82       276\n",
      "\n",
      "   micro avg       0.73      0.73      0.73       346\n",
      "   macro avg       0.63      0.66      0.63       346\n",
      "weighted avg       0.77      0.73      0.74       346\n",
      "\n",
      "\n",
      "\n",
      "\u001b[95mSVM\u001b[0m\n",
      "                        SVM\n",
      "Accuracy           0.705202\n",
      "Balanced Accuracy  0.724586\n",
      "f1 Score           0.789256\n",
      "\n",
      "Custom score 0.7255\n",
      "\n",
      "Confusion matrix for SVM:\n",
      "[[ 53  17]\n",
      " [ 85 191]]\n",
      "\n",
      "Full classification report for SVM:\n",
      "              precision    recall  f1-score   support\n",
      "\n",
      "        died       0.38      0.76      0.51        70\n",
      "   recovered       0.92      0.69      0.79       276\n",
      "\n",
      "   micro avg       0.71      0.71      0.71       346\n",
      "   macro avg       0.65      0.72      0.65       346\n",
      "weighted avg       0.81      0.71      0.73       346\n",
      "\n",
      "\n",
      "\n",
      "\u001b[95mK NEAREST NEIGHBOURS\u001b[0m\n",
      "                   K Nearest Neighbours\n",
      "Accuracy                       0.815029\n",
      "Balanced Accuracy              0.633489\n",
      "f1 Score                       0.890034\n",
      "\n",
      "Custom score 0.7479\n",
      "\n",
      "Confusion matrix for K Nearest Neighbours:\n",
      "[[ 23  47]\n",
      " [ 17 259]]\n",
      "\n",
      "Full classification report for K Nearest Neighbours:\n",
      "              precision    recall  f1-score   support\n",
      "\n",
      "        died       0.57      0.33      0.42        70\n",
      "   recovered       0.85      0.94      0.89       276\n",
      "\n",
      "   micro avg       0.82      0.82      0.82       346\n",
      "   macro avg       0.71      0.63      0.65       346\n",
      "weighted avg       0.79      0.82      0.79       346\n",
      "\n",
      "\n",
      "\n",
      "\u001b[95mLOGISTIC REGRESSION\u001b[0m\n",
      "                   Logistic Regression\n",
      "Accuracy                      0.722543\n",
      "Balanced Accuracy             0.730124\n",
      "f1 Score                      0.804878\n",
      "\n",
      "Custom score 0.7376\n",
      "\n",
      "Confusion matrix for Logistic Regression:\n",
      "[[ 52  18]\n",
      " [ 78 198]]\n",
      "\n",
      "Full classification report for Logistic Regression:\n",
      "              precision    recall  f1-score   support\n",
      "\n",
      "        died       0.40      0.74      0.52        70\n",
      "   recovered       0.92      0.72      0.80       276\n",
      "\n",
      "   micro avg       0.72      0.72      0.72       346\n",
      "   macro avg       0.66      0.73      0.66       346\n",
      "weighted avg       0.81      0.72      0.75       346\n",
      "\n",
      "\n",
      "\n",
      "\u001b[95mRANDOM FOREST\u001b[0m\n",
      "                   Random forest\n",
      "Accuracy                0.763006\n",
      "Balanced Accuracy       0.659524\n",
      "f1 Score                0.848708\n",
      "\n",
      "Custom score 0.7309\n",
      "\n",
      "Confusion matrix for Random forest:\n",
      "[[ 34  36]\n",
      " [ 46 230]]\n",
      "\n",
      "Full classification report for Random forest:\n",
      "              precision    recall  f1-score   support\n",
      "\n",
      "        died       0.42      0.49      0.45        70\n",
      "   recovered       0.86      0.83      0.85       276\n",
      "\n",
      "   micro avg       0.76      0.76      0.76       346\n",
      "   macro avg       0.64      0.66      0.65       346\n",
      "weighted avg       0.78      0.76      0.77       346\n",
      "\n",
      "\n",
      "\n"
     ]
    }
   ],
   "source": [
    "def evaluate(model_name, predictions):\n",
    "    print('\\033[95m' + model_name.upper() + '\\033[0m')\n",
    "    scores = pd.DataFrame()\n",
    "    accuracy = metrics.accuracy_score(y_test, predictions)\n",
    "    balanced_accuracy = metrics.balanced_accuracy_score(y_test, predictions)\n",
    "    f1score = metrics.f1_score(y_test, predictions)\n",
    "    scores[model_name] = [accuracy, balanced_accuracy, f1score]\n",
    "    scores.index = ['Accuracy', 'Balanced Accuracy', 'f1 Score']\n",
    "    print(scores)\n",
    "    print(f'\\nCustom score {custom_score(y_test, predictions)}')\n",
    "    print(f'\\nConfusion matrix for {model_name}:')\n",
    "    print(metrics.confusion_matrix(y_test, predictions))\n",
    "    print(f'\\nFull classification report for {model_name}:')\n",
    "    print(metrics.classification_report(y_test, predictions, target_names=['died','recovered']))\n",
    "    print('\\n')\n",
    "    return (custom_score(y_test, predictions), model_name)\n",
    "\n",
    "nb_score = evaluate('Naive Bayes', nb_predictions)\n",
    "tree_score = evaluate('Decision tree', tree_predictions)\n",
    "svm_score = evaluate('SVM', svm_predictions)\n",
    "knn_score = evaluate('K Nearest Neighbours', knn_predictions)\n",
    "lr_score = evaluate('Logistic Regression', LR_predictions)\n",
    "forest_score = evaluate('Random forest', forest_predictions)"
   ]
  },
  {
   "source": [
    "## 5.4 Rank the models"
   ],
   "cell_type": "markdown",
   "metadata": {}
  },
  {
   "cell_type": "code",
   "execution_count": 16,
   "metadata": {},
   "outputs": [
    {
     "output_type": "stream",
     "name": "stdout",
     "text": [
      "Ranking the models according to the custom score\n\n(0.3548, 'Naive Bayes')\n(0.7116, 'Decision tree')\n(0.7255, 'SVM')\n(0.7309, 'Random forest')\n(0.7376, 'Logistic Regression')\n(0.7479, 'K Nearest Neighbours')\n"
     ]
    }
   ],
   "source": [
    "print('Ranking the models according to the custom score\\n')\n",
    "ranks = [nb_score, tree_score, svm_score, knn_score, lr_score, forest_score]\n",
    "ranks.sort()\n",
    "for rank in ranks:\n",
    "    print(rank)"
   ]
  },
  {
   "source": [
    "At this point we can see that the top performing models are the Logistic Regression model, the K-Nearest Neighbours model and the Random Forest model. These are the models I use from this point onwards."
   ],
   "cell_type": "markdown",
   "metadata": {}
  },
  {
   "source": [
    "# 6 Model Improvement\n",
    "\n",
    "This section involves trying a cross validation method and hyperparameter tuning to try and improve the models\n",
    "The tuning actually occurs during the .fit() call on the GridSearchCV object.\n",
    "Calling this on the training data means cross validation folds are automatically generated from the training data and the test data remains unseen (to be used for evaluation later).\n",
    "Because of this, we can see that the accuracy of the models is lower than the previous accuracy but we hope that the model quality has improved regardless. This will be tested at the end.\n",
    "\n",
    "For each model, we want to find the best set of parameters to improve the accuracy.\n"
   ],
   "cell_type": "markdown",
   "metadata": {}
  },
  {
   "cell_type": "code",
   "execution_count": 17,
   "metadata": {},
   "outputs": [],
   "source": [
    "from sklearn.model_selection import GridSearchCV, RandomizedSearchCV\n",
    "\n",
    "objectives = ['accuracy', 'balanced_accuracy']"
   ]
  },
  {
   "source": [
    "## 6.1 Tune the hyperparameters for Logistic Regression\n",
    "We will tune the solvers, C value and max_iterations parameters."
   ],
   "cell_type": "markdown",
   "metadata": {}
  },
  {
   "cell_type": "code",
   "execution_count": 18,
   "metadata": {},
   "outputs": [
    {
     "output_type": "stream",
     "name": "stdout",
     "text": [
      "The best score was: 0.7569926366559485 using {'C': 1, 'class_weight': {0: 4.538461538461538, 1: 1}, 'max_iter': 500, 'solver': 'lbfgs'}\n"
     ]
    }
   ],
   "source": [
    "# Tune logistic regression hyperparameters\n",
    "model = linear_model.LogisticRegression()\n",
    "\n",
    "class_weight = [{0: 2832/624, 1:1}]\n",
    "\n",
    "solvers = ['lbfgs', 'liblinear']\n",
    "c_values = [100, 10, 1, 0.1, 0.01]\n",
    "max_iter = [500, 1000]\n",
    "\n",
    "lr_param_grid = dict(class_weight=class_weight, solver=solvers, C=c_values, max_iter=max_iter)\n",
    "\n",
    "lr_search = GridSearchCV(estimator=model, param_grid=lr_param_grid, n_jobs=-1, cv=5, scoring=custom_scorer, error_score=0, verbose=0)\n",
    "# lr_search = RandomizedSearchCV(estimator=model, param_distributions=lr_param_grid, n_jobs=-1, cv=5, scoring=custom_scorer, error_score=0, verbose=0)\n",
    "\n",
    "lr_final_classifier = lr_search.fit(X_train, y_train)\n",
    "print(f\"The best score was: {lr_final_classifier.best_score_} using {lr_final_classifier.best_params_}\")"
   ]
  },
  {
   "source": [
    "## 6.2 Tune the hyperparameters for K-Nearest Neighbours\n",
    "We will tune the number of neighbours searched, the algorithm for computing nearest neighbours and the weights"
   ],
   "cell_type": "markdown",
   "metadata": {}
  },
  {
   "cell_type": "code",
   "execution_count": 19,
   "metadata": {},
   "outputs": [
    {
     "output_type": "stream",
     "name": "stdout",
     "text": [
      "The best score was: 0.7325461414790997 using {'algorithm': 'auto', 'n_neighbors': 6, 'weights': 'uniform'}\n"
     ]
    }
   ],
   "source": [
    "# Tune kNN parameters\n",
    "model = KNeighborsClassifier()\n",
    "\n",
    "# class_weight = [{0: 2832/624, 1:1}]\n",
    "\n",
    "n_neighbors = [2,3,4,5,6,7,8,9,10]\n",
    "weights = ['uniform', 'distance']\n",
    "algorithms = ['auto', 'ball_tree', 'kd_tree', 'brute']\n",
    "\n",
    "knn_param_grid = dict(n_neighbors=n_neighbors, weights=weights, algorithm=algorithms)\n",
    "\n",
    "knn_search = GridSearchCV(estimator=model, param_grid=knn_param_grid, n_jobs=-1, cv=5, scoring=custom_scorer, error_score=0, verbose=0)\n",
    "# knn_search = RandomizedSearchCV(estimator=model, param_distributions=knn_param_grid, n_jobs=-1, cv=5, scoring=custom_scorer, error_score=0, verbose=0)\n",
    "\n",
    "knn_final_classifier = knn_search.fit(X_train, y_train)\n",
    "print(f\"The best score was: {knn_final_classifier.best_score_} using {knn_final_classifier.best_params_}\")"
   ]
  },
  {
   "source": [
    "## 6.3 Tune the random forest hyperparameters\n",
    "We will tune the number of estimators, the criterion for selection, the maximum tree depth and the maximum number of features."
   ],
   "cell_type": "markdown",
   "metadata": {}
  },
  {
   "cell_type": "code",
   "execution_count": 20,
   "metadata": {},
   "outputs": [
    {
     "output_type": "stream",
     "name": "stdout",
     "text": [
      "The best score was: 0.7627147588424437 using {'class_weight': {0: 4.538461538461538, 1: 1}, 'criterion': 'entropy', 'max_depth': 10, 'max_features': 'sqrt', 'n_estimators': 50}\n"
     ]
    }
   ],
   "source": [
    "# Tune random forest hyperparameters\n",
    "model = RandomForestClassifier()\n",
    "\n",
    "class_weight = [{0: 2832/624, 1:1}]\n",
    "\n",
    "n_estimators = [10, 50, 100, 200]\n",
    "criterions = ['gini', 'entropy']\n",
    "max_depths = [None, 10, 100]\n",
    "max_features = ['auto', 'sqrt', 'log2']\n",
    "\n",
    "rf_param_grid = dict(class_weight=class_weight, n_estimators=n_estimators, criterion=criterions, max_depth=max_depths, max_features=max_features)\n",
    "\n",
    "rf_search = GridSearchCV(estimator=model, param_grid=rf_param_grid, n_jobs=-1, cv=5, scoring=custom_scorer, error_score=0, verbose=0)\n",
    "# rf_search = RandomizedSearchCV(estimator=model, param_distributions=rf_param_grid, n_jobs=-1, cv=5, scoring=custom_scorer, error_score=0, verbose=0)\n",
    "rf_final_classifier = rf_search.fit(X_train, y_train)\n",
    "print(f\"The best score was: {rf_final_classifier.best_score_} using {rf_final_classifier.best_params_}\")"
   ]
  },
  {
   "source": [
    "# Final models\n",
    "\n",
    "Using the best parameters determined by the hyper parameter tuning we can create a final set of classifiers"
   ],
   "cell_type": "markdown",
   "metadata": {}
  },
  {
   "cell_type": "code",
   "execution_count": 21,
   "metadata": {},
   "outputs": [],
   "source": [
    "# final_LR_classifier = linear_model.LogisticRegression(\n",
    "#     class_weight={0: 2832/624, 1:1},\n",
    "#     solver='liblinear', \n",
    "#     max_iter=1000,\n",
    "#     C=1\n",
    "# )\n",
    "\n",
    "# final_knn_classifier = KNeighborsClassifier(\n",
    "#     weights='uniform',\n",
    "#     n_neighbors=9,\n",
    "#     algorithm='auto'\n",
    "# )\n",
    "\n",
    "# final_rf_classifier = RandomForestClassifier(\n",
    "#     class_weight={0: 2832/624, 1:1},\n",
    "#     n_estimators=50,\n",
    "#     max_features='auto',\n",
    "#     max_depth=100,\n",
    "#     criterion='gini'\n",
    "# )\n",
    "\n",
    "# final_rf_classifier.fit(X_train, y_train)\n",
    "# final_knn_classifier.fit(X_train, y_train)\n",
    "# final_LR_classifier.fit(X_train, y_train)\n",
    "# print('Models trained')"
   ]
  },
  {
   "cell_type": "code",
   "execution_count": 25,
   "metadata": {},
   "outputs": [
    {
     "output_type": "stream",
     "name": "stdout",
     "text": [
      "Accuracy scores for the final models:\n0.7225 Logistic Regression\n0.7861 k-Nearest Neighbours\n0.7543 Random Forest\n\nBalanced accuracy scores for the final models:\n0.7301 Logistic Regression\n0.6314 k-Nearest Neighbours\n0.7447 Random Forest\n\nCustom scores for the final models:\n0.7376 Logistic Regression\n0.7317 k-Nearest Neighbours\n0.7613 Random Forest\n\nPercentage Accuracy changes by model:\n-0.006% Logistic Regression\n-3.5494% k-Nearest Neighbours\n-1.141% Random Forest\n\nPercentage Balanced Accuracy changes by model:\n-0.0033% Logistic Regression\n-0.3297% k-Nearest Neighbours\n12.9148% Random Forest\n\nPercentage f1 score changes by model:\n-9.2906% Logistic Regression\n-29.0589% k-Nearest Neighbours\n-12.2549% Random Forest\n\nPercentage changes in the custom score by model:\n0.0% Logistic Regression\n-2.1661% k-Nearest Neighbours\n4.1593% Random Forest\n"
     ]
    }
   ],
   "source": [
    "models = [lr_final_classifier, knn_final_classifier, rf_final_classifier]\n",
    "names = ['Logistic Regression', 'k-Nearest Neighbours', 'Random Forest']\n",
    "predictions = []\n",
    "accuracies = []\n",
    "balanced_accuracies = []\n",
    "custom_scores = []\n",
    "for i in range(len(models)):\n",
    "    predictions.append(models[i].predict(X_test))\n",
    "    accuracies.append(round(metrics.accuracy_score(y_test, predictions[i]), 4))\n",
    "    balanced_accuracies.append(round(metrics.balanced_accuracy_score(y_test, predictions[i]), 4))\n",
    "    custom_scores.append(custom_scorer(models[i], X_test, y_test))\n",
    "\n",
    "print('Accuracy scores for the final models:')\n",
    "for i in range(len(models)):\n",
    "    print(accuracies[i], names[i])\n",
    "\n",
    "print('\\nBalanced accuracy scores for the final models:')\n",
    "for i in range(len(models)):\n",
    "    print(balanced_accuracies[i], names[i])\n",
    "\n",
    "print('\\nCustom scores for the final models:')\n",
    "for i in range(len(models)):\n",
    "    print(custom_scores[i], names[i])\n",
    "\n",
    "print(f'\\nPercentage Accuracy changes by model:')\n",
    "print(f'{round(((accuracies[0]-LR_accuracy)/LR_accuracy)*100, 4)}% {names[0]}')\n",
    "print(f'{round(((accuracies[1]-knn_accuracy)/knn_accuracy)*100, 4)}% {names[1]}')\n",
    "print(f'{round(((accuracies[2]-forest_accuracy)/forest_accuracy)*100, 4)}% {names[2]}')\n",
    "\n",
    "print(f'\\nPercentage Balanced Accuracy changes by model:')\n",
    "lr_balanced_accuracy = metrics.balanced_accuracy_score(y_test, LR_predictions)\n",
    "print(f'{round(((balanced_accuracies[0]-lr_balanced_accuracy)/lr_balanced_accuracy)*100, 4)}% {names[0]}')\n",
    "knn_balanced_accuracy = metrics.balanced_accuracy_score(y_test, knn_predictions)\n",
    "print(f'{round(((balanced_accuracies[1]-knn_balanced_accuracy)/knn_balanced_accuracy)*100, 4)}% {names[1]}')\n",
    "forest_balanced_accuracy = metrics.balanced_accuracy_score(y_test, forest_predictions)\n",
    "print(f'{round(((balanced_accuracies[2]-forest_balanced_accuracy)/forest_balanced_accuracy)*100, 4)}% {names[2]}')\n",
    "\n",
    "print(f'\\nPercentage f1 score changes by model:')\n",
    "lr_f1_score = metrics.f1_score(y_test, LR_predictions)\n",
    "print(f'{round(((balanced_accuracies[0]-lr_f1_score)/lr_f1_score)*100, 4)}% {names[0]}')\n",
    "knn_f1_score = metrics.f1_score(y_test, knn_predictions)\n",
    "print(f'{round(((balanced_accuracies[1]-knn_f1_score)/knn_f1_score)*100, 4)}% {names[1]}')\n",
    "forest_f1_score = metrics.f1_score(y_test, forest_predictions)\n",
    "print(f'{round(((balanced_accuracies[2]-forest_f1_score)/forest_f1_score)*100, 4)}% {names[2]}')\n",
    "\n",
    "print('\\nPercentage changes in the custom score by model:')\n",
    "print(f'{round( ((custom_scores[0] - custom_scorer(LR_classifier, X_test, y_test)) / custom_scorer(LR_classifier, X_test, y_test) ) * 100, 4)}% {names[0]}')\n",
    "print(f'{round( ((custom_scores[1] - custom_scorer(knn_classifier, X_test, y_test)) / custom_scorer(knn_classifier, X_test, y_test) ) * 100, 4)}% {names[1]}')\n",
    "print(f'{round( ((custom_scores[2] - custom_scorer(forest_classifier, X_test, y_test)) / custom_scorer(forest_classifier, X_test, y_test) ) * 100, 4)}% {names[2]}')"
   ]
  },
  {
   "cell_type": "code",
   "execution_count": 23,
   "metadata": {},
   "outputs": [
    {
     "output_type": "stream",
     "name": "stdout",
     "text": [
      "\u001b[95mLOGISTIC REGRESSION\u001b[0m\n                   Logistic Regression\nAccuracy                      0.722543\nBalanced Accuracy             0.730124\nf1 Score                      0.804878\n\nCustom score 0.7376\n\nConfusion matrix for Logistic Regression:\n[[ 52  18]\n [ 78 198]]\n\nFull classification report for Logistic Regression:\n              precision    recall  f1-score   support\n\n        died       0.40      0.74      0.52        70\n   recovered       0.92      0.72      0.80       276\n\n   micro avg       0.72      0.72      0.72       346\n   macro avg       0.66      0.73      0.66       346\nweighted avg       0.81      0.72      0.75       346\n\n\n\n\u001b[95mK-NEAREST NEIGHBOURS\u001b[0m\n                   k-Nearest Neighbours\nAccuracy                       0.786127\nBalanced Accuracy              0.631366\nf1 Score                       0.869258\n\nCustom score 0.7317\n\nConfusion matrix for k-Nearest Neighbours:\n[[ 26  44]\n [ 30 246]]\n\nFull classification report for k-Nearest Neighbours:\n              precision    recall  f1-score   support\n\n        died       0.46      0.37      0.41        70\n   recovered       0.85      0.89      0.87       276\n\n   micro avg       0.79      0.79      0.79       346\n   macro avg       0.66      0.63      0.64       346\nweighted avg       0.77      0.79      0.78       346\n\n\n\n\u001b[95mRANDOM FOREST\u001b[0m\n                   Random Forest\nAccuracy                0.754335\nBalanced Accuracy       0.744720\nf1 Score                0.831683\n\nCustom score 0.7613\n\nConfusion matrix for Random Forest:\n[[ 51  19]\n [ 66 210]]\n\nFull classification report for Random Forest:\n              precision    recall  f1-score   support\n\n        died       0.44      0.73      0.55        70\n   recovered       0.92      0.76      0.83       276\n\n   micro avg       0.75      0.75      0.75       346\n   macro avg       0.68      0.74      0.69       346\nweighted avg       0.82      0.75      0.77       346\n\n\n\n"
     ]
    }
   ],
   "source": [
    "for i in range(len(models)):\n",
    "    evaluate(names[i], predictions[i])"
   ]
  }
 ]
}